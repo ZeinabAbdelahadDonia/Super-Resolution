{
 "cells": [
  {
   "cell_type": "code",
   "execution_count": 1,
   "metadata": {
    "_cell_guid": "b1076dfc-b9ad-4769-8c92-a6c4dae69d19",
    "_uuid": "8f2839f25d086af736a60e9eeb907d3b93b6e0e5",
    "execution": {
     "iopub.execute_input": "2025-05-01T22:48:52.292110Z",
     "iopub.status.busy": "2025-05-01T22:48:52.291303Z",
     "iopub.status.idle": "2025-05-01T22:48:53.896892Z",
     "shell.execute_reply": "2025-05-01T22:48:53.896309Z",
     "shell.execute_reply.started": "2025-05-01T22:48:52.292073Z"
    },
    "trusted": true
   },
   "outputs": [],
   "source": [
    "# Original Restormer-Tiny components (adapted from official code and paper)\n",
    "import torch\n",
    "import torch.nn as nn\n",
    "import torch.nn.functional as F\n",
    "\n",
    "class LayerNorm2d(nn.Module):\n",
    "    def __init__(self, num_channels, eps=1e-6):\n",
    "        super().__init__()\n",
    "        self.weight = nn.Parameter(torch.ones(num_channels))\n",
    "        self.bias = nn.Parameter(torch.zeros(num_channels))\n",
    "        self.eps = eps\n",
    "\n",
    "    def forward(self, x):\n",
    "        mu = x.mean(1, keepdim=True)\n",
    "        sigma = ((x - mu) ** 2).mean(1, keepdim=True)\n",
    "        x = (x - mu) / torch.sqrt(sigma + self.eps)\n",
    "        return self.weight[:, None, None] * x + self.bias[:, None, None]\n",
    "\n",
    "class MDTA(nn.Module):\n",
    "    def __init__(self, dim, num_heads=4):\n",
    "        super().__init__()\n",
    "        self.num_heads = num_heads\n",
    "        self.temperature = nn.Parameter(torch.ones(num_heads, 1, 1))\n",
    "\n",
    "        self.qkv = nn.Conv2d(dim, dim * 3, kernel_size=1, bias=False)\n",
    "        self.qkv_dwconv = nn.Conv2d(dim * 3, dim * 3, kernel_size=3, stride=1, padding=1, groups=dim * 3, bias=False)\n",
    "        self.project_out = nn.Conv2d(dim, dim, kernel_size=1, bias=False)\n",
    "\n",
    "    def forward(self, x):\n",
    "        B, C, H, W = x.shape\n",
    "        qkv = self.qkv_dwconv(self.qkv(x))\n",
    "        q, k, v = qkv.chunk(3, dim=1)\n",
    "\n",
    "        q = q.reshape(B, self.num_heads, C // self.num_heads, H * W)\n",
    "        k = k.reshape(B, self.num_heads, C // self.num_heads, H * W)\n",
    "        v = v.reshape(B, self.num_heads, C // self.num_heads, H * W)\n",
    "\n",
    "        q = F.normalize(q, dim=2)\n",
    "        k = F.normalize(k, dim=2)\n",
    "\n",
    "        attn = (q @ k.transpose(-2, -1)) * self.temperature\n",
    "        attn = attn.softmax(dim=-1)\n",
    "\n",
    "        out = attn @ v\n",
    "        out = out.reshape(B, C, H, W)\n",
    "        out = self.project_out(out)\n",
    "        return out\n",
    "\n",
    "class GatedFFN(nn.Module):\n",
    "    def __init__(self, dim):\n",
    "        super().__init__()\n",
    "        hidden_dim = dim * 2\n",
    "        self.project_in = nn.Conv2d(dim, hidden_dim * 2, kernel_size=1, bias=False)\n",
    "        self.dwconv = nn.Conv2d(hidden_dim * 2, hidden_dim * 2, kernel_size=3, stride=1, padding=1, groups=hidden_dim * 2, bias=False)\n",
    "        self.project_out = nn.Conv2d(hidden_dim, dim, kernel_size=1, bias=False)\n",
    "\n",
    "    def forward(self, x):\n",
    "        x = self.project_in(x)\n",
    "        x = self.dwconv(x)\n",
    "        x1, x2 = x.chunk(2, dim=1)\n",
    "        x = F.gelu(x1) * x2\n",
    "        x = self.project_out(x)\n",
    "        return x\n",
    "\n",
    "class TransformerBlock(nn.Module):\n",
    "    def __init__(self, dim, num_heads):\n",
    "        super().__init__()\n",
    "        self.norm1 = LayerNorm2d(dim)\n",
    "        self.attn = MDTA(dim, num_heads)\n",
    "        self.norm2 = LayerNorm2d(dim)\n",
    "        self.ffn = GatedFFN(dim)\n",
    "\n",
    "    def forward(self, x):\n",
    "        x = x + self.attn(self.norm1(x))\n",
    "        x = x + self.ffn(self.norm2(x))\n",
    "        return x\n",
    "\n",
    "\n"
   ]
  },
  {
   "cell_type": "code",
   "execution_count": 2,
   "metadata": {
    "execution": {
     "iopub.execute_input": "2025-05-01T22:48:55.814619Z",
     "iopub.status.busy": "2025-05-01T22:48:55.813774Z",
     "iopub.status.idle": "2025-05-01T22:48:55.820048Z",
     "shell.execute_reply": "2025-05-01T22:48:55.819365Z",
     "shell.execute_reply.started": "2025-05-01T22:48:55.814592Z"
    },
    "trusted": true
   },
   "outputs": [],
   "source": [
    "# ============ Restormer-Tiny ============\n",
    "class RestormerTiny(nn.Module):\n",
    "    def __init__(self, dim=32, num_blocks=4, scale=2, num_heads=2):\n",
    "        super().__init__()\n",
    "        self.shallow_feat = nn.Conv2d(3, dim, kernel_size=3, padding=1)\n",
    "        self.transformer_blocks = nn.Sequential(*[TransformerBlock(dim, num_heads) for _ in range(num_blocks)])\n",
    "        self.upsample = nn.Sequential(\n",
    "            nn.Conv2d(dim, dim * (scale ** 2), 3, 1, 1),\n",
    "            nn.PixelShuffle(scale),\n",
    "            nn.Conv2d(dim, 3, 3, 1, 1)\n",
    "        )\n",
    "\n",
    "    def forward(self, x):\n",
    "        x = self.shallow_feat(x)\n",
    "        x = self.transformer_blocks(x)\n",
    "        x = self.upsample(x)\n",
    "        return x\n",
    "\n"
   ]
  },
  {
   "cell_type": "code",
   "execution_count": 1,
   "metadata": {
    "execution": {
     "iopub.execute_input": "2025-05-01T22:48:59.723174Z",
     "iopub.status.busy": "2025-05-01T22:48:59.722538Z",
     "iopub.status.idle": "2025-05-01T22:49:00.889692Z",
     "shell.execute_reply": "2025-05-01T22:49:00.889147Z",
     "shell.execute_reply.started": "2025-05-01T22:48:59.723150Z"
    },
    "trusted": true
   },
   "outputs": [],
   "source": [
    "import os\n",
    "import torch\n",
    "import torch.nn as nn\n",
    "import torch.nn.functional as F\n",
    "from torch.utils.data import DataLoader, Dataset\n",
    "from torchvision import transforms\n",
    "from PIL import Image\n",
    "import matplotlib.pyplot as plt"
   ]
  },
  {
   "cell_type": "code",
   "execution_count": 2,
   "metadata": {
    "execution": {
     "iopub.execute_input": "2025-05-01T22:49:03.161108Z",
     "iopub.status.busy": "2025-05-01T22:49:03.160695Z",
     "iopub.status.idle": "2025-05-01T22:49:03.167921Z",
     "shell.execute_reply": "2025-05-01T22:49:03.167166Z",
     "shell.execute_reply.started": "2025-05-01T22:49:03.161083Z"
    },
    "trusted": true
   },
   "outputs": [],
   "source": [
    "class DIV2KDataset(Dataset):\n",
    "    def __init__(self, hr_dir, scale=2, transform=None):\n",
    "        super().__init__()\n",
    "        self.hr_images = [os.path.join(hr_dir, f) for f in os.listdir(hr_dir) if f.endswith(\".png\")]\n",
    "        self.scale = scale\n",
    "        self.transform = transform or transforms.ToTensor()\n",
    "\n",
    "    def __len__(self):\n",
    "        return len(self.hr_images)\n",
    "\n",
    "    def __getitem__(self, idx):\n",
    "        hr = Image.open(self.hr_images[idx]).convert(\"RGB\")\n",
    "        w, h = hr.size\n",
    "        hr = hr.crop((0, 0, w - w % self.scale, h - h % self.scale))\n",
    "        lr = hr.resize((w // self.scale, h // self.scale), Image.BICUBIC)\n",
    "        return self.transform(lr), self.transform(hr)"
   ]
  },
  {
   "cell_type": "code",
   "execution_count": 5,
   "metadata": {
    "execution": {
     "iopub.execute_input": "2025-05-01T22:49:07.018603Z",
     "iopub.status.busy": "2025-05-01T22:49:07.017972Z",
     "iopub.status.idle": "2025-05-01T22:49:12.362132Z",
     "shell.execute_reply": "2025-05-01T22:49:12.361309Z",
     "shell.execute_reply.started": "2025-05-01T22:49:07.018567Z"
    },
    "trusted": true
   },
   "outputs": [
    {
     "name": "stderr",
     "output_type": "stream",
     "text": [
      "2025-05-01 22:49:07.628815: E external/local_xla/xla/stream_executor/cuda/cuda_fft.cc:477] Unable to register cuFFT factory: Attempting to register factory for plugin cuFFT when one has already been registered\n",
      "WARNING: All log messages before absl::InitializeLog() is called are written to STDERR\n",
      "E0000 00:00:1746139747.651124     214 cuda_dnn.cc:8310] Unable to register cuDNN factory: Attempting to register factory for plugin cuDNN when one has already been registered\n",
      "E0000 00:00:1746139747.657895     214 cuda_blas.cc:1418] Unable to register cuBLAS factory: Attempting to register factory for plugin cuBLAS when one has already been registered\n"
     ]
    }
   ],
   "source": [
    "import torch\n",
    "import torch.nn as nn\n",
    "from tqdm import tqdm\n",
    "from torch.utils.tensorboard import SummaryWriter\n",
    "from torchvision.utils import make_grid\n",
    "import matplotlib.pyplot as plt\n",
    "from skimage.metrics import peak_signal_noise_ratio as compare_psnr\n",
    "from skimage.metrics import structural_similarity as compare_ssim\n",
    "import numpy as np\n",
    "from torchmetrics.functional import structural_similarity_index_measure as compute_ssim\n",
    "\n",
    "def psnr(target, output, data_range=1.0):\n",
    "    mse = np.mean((target - output) ** 2)\n",
    "    if mse == 0:\n",
    "        return 100\n",
    "    return 20 * np.log10(data_range / np.sqrt(mse))\n",
    "\n",
    "\n",
    "def evaluate(model, dataloader, criterion=nn.MSELoss()):\n",
    "    device = torch.device(\"cuda\" if torch.cuda.is_available() else \"cpu\")\n",
    "    model.eval()\n",
    "    psnr_scores = []\n",
    "    ssim_scores = []\n",
    "    val_loss = 0.0\n",
    "\n",
    "    with torch.no_grad():\n",
    "        for lr_img, hr_img in dataloader:\n",
    "            lr_img, hr_img = lr_img.to(device), hr_img.to(device)\n",
    "            sr_img = model(lr_img).clamp(0.0, 1.0)\n",
    "\n",
    "            loss = criterion(sr_img, hr_img)\n",
    "            val_loss += loss.item()\n",
    "\n",
    "            psnr_val = psnr(hr_img.squeeze().cpu().numpy(), sr_img.squeeze().cpu().numpy())\n",
    "            ssim_val = compute_ssim(sr_img, hr_img, data_range=1.0).item()\n",
    "\n",
    "            psnr_scores.append(psnr_val)\n",
    "            ssim_scores.append(ssim_val)\n",
    "\n",
    "    avg_val_loss = val_loss / len(dataloader)\n",
    "    return (\n",
    "        sum(psnr_scores) / len(psnr_scores),\n",
    "        sum(ssim_scores) / len(ssim_scores),\n",
    "        avg_val_loss\n",
    "    )\n",
    "\n",
    "\n",
    "def plot_learning_curve(train_losses, val_losses, epoch_psnrs, epoch_ssims):\n",
    "    plt.figure(figsize=(18, 5))\n",
    "\n",
    "    # Plot loss\n",
    "    plt.subplot(1, 3, 1)\n",
    "    plt.plot(range(1, len(train_losses) + 1), train_losses, label='Training Loss', color='blue')\n",
    "    plt.plot(range(1, len(val_losses) + 1), val_losses, label='Validation Loss', color='red')\n",
    "    plt.xlabel('Epoch')\n",
    "    plt.ylabel('Loss')\n",
    "    plt.title('Training & Validation Loss Curve')\n",
    "    plt.legend()\n",
    "    plt.grid(True)\n",
    "\n",
    "    # Plot PSNR\n",
    "    plt.subplot(1, 3, 2)\n",
    "    plt.plot(range(1, len(epoch_psnrs) + 1), epoch_psnrs, label='Validation PSNR', color='green')\n",
    "    plt.xlabel('Epoch')\n",
    "    plt.ylabel('PSNR (dB)')\n",
    "    plt.title('Validation PSNR Curve')\n",
    "    plt.legend()\n",
    "    plt.grid(True)\n",
    "\n",
    "    # Plot SSIM\n",
    "    plt.subplot(1, 3, 3)\n",
    "    plt.plot(range(1, len(epoch_ssims) + 1), epoch_ssims, label='Validation SSIM', color='purple')\n",
    "    plt.xlabel('Epoch')\n",
    "    plt.ylabel('SSIM')\n",
    "    plt.title('Validation SSIM Curve')\n",
    "    plt.legend()\n",
    "    plt.grid(True)\n",
    "\n",
    "    plt.tight_layout()\n",
    "    plt.show()\n",
    "\n",
    "\n",
    "def train(model, train_dataloader, val_dataloader, epochs=2, lr=1e-4, log_dir=\"runs/restormerTry\"):\n",
    "    device = torch.device(\"cuda\" if torch.cuda.is_available() else \"cpu\")\n",
    "    model.to(device)\n",
    "\n",
    "    criterion = nn.MSELoss()\n",
    "    optimizer = torch.optim.Adam(model.parameters(), lr=lr)\n",
    "    writer = SummaryWriter(log_dir)\n",
    "\n",
    "    epoch_losses = []\n",
    "    val_losses = []\n",
    "    epoch_psnrs = []\n",
    "    epoch_ssims = []\n",
    "\n",
    "    for epoch in range(epochs):\n",
    "        model.train()\n",
    "        running_loss = 0\n",
    "        for lr_img, hr_img in tqdm(train_dataloader, desc=f\"Epoch {epoch+1}\"):\n",
    "            lr_img, hr_img = lr_img.to(device), hr_img.to(device)\n",
    "\n",
    "            output = model(lr_img)\n",
    "            loss = criterion(output, hr_img)\n",
    "\n",
    "            optimizer.zero_grad()\n",
    "            loss.backward()\n",
    "            optimizer.step()\n",
    "\n",
    "            running_loss += loss.item()\n",
    "\n",
    "        avg_loss = running_loss / len(train_dataloader)\n",
    "        epoch_losses.append(avg_loss)\n",
    "        writer.add_scalar(\"Loss/Train\", avg_loss, epoch)\n",
    "\n",
    "        val_psnr, val_ssim, val_loss = evaluate(model, val_dataloader, criterion)\n",
    "        epoch_psnrs.append(val_psnr)\n",
    "        epoch_ssims.append(val_ssim)\n",
    "        val_losses.append(val_loss)\n",
    "\n",
    "        writer.add_scalar(\"Loss/Val\", val_loss, epoch)\n",
    "        writer.add_scalar(\"PSNR/Val\", val_psnr, epoch)\n",
    "        writer.add_scalar(\"SSIM/Val\", val_ssim, epoch)\n",
    "\n",
    "        # Log images (first batch only)\n",
    "        model.eval()\n",
    "        with torch.no_grad():\n",
    "            for lr_img, hr_img in val_dataloader:\n",
    "                lr_img = lr_img.to(device)\n",
    "                sr_img = model(lr_img).clamp(0.0, 1.0)\n",
    "                writer.add_images(\"Input/LR\", lr_img, epoch)\n",
    "                writer.add_images(\"Output/SR\", sr_img, epoch)\n",
    "                writer.add_images(\"Target/HR\", hr_img.to(device), epoch)\n",
    "                break\n",
    "\n",
    "        torch.cuda.empty_cache()\n",
    "\n",
    "        if torch.cuda.is_available():\n",
    "            allocated = torch.cuda.memory_allocated() / 1e6\n",
    "            reserved = torch.cuda.memory_reserved() / 1e6\n",
    "            print(f\"[GPU] Memory allocated: {allocated:.2f} MB | reserved: {reserved:.2f} MB\")\n",
    "\n",
    "        print(f\"Epoch {epoch+1}: Train Loss = {avg_loss:.4f}, Val Loss = {val_loss:.4f}, PSNR = {val_psnr:.2f}, SSIM = {val_ssim:.4f}\")\n",
    "\n",
    "    writer.close()\n",
    "    plot_learning_curve(epoch_losses, val_losses, epoch_psnrs, epoch_ssims)\n",
    "    return model\n"
   ]
  },
  {
   "cell_type": "code",
   "execution_count": 6,
   "metadata": {
    "execution": {
     "iopub.execute_input": "2025-05-01T22:49:23.005125Z",
     "iopub.status.busy": "2025-05-01T22:49:23.004486Z",
     "iopub.status.idle": "2025-05-01T22:49:23.059452Z",
     "shell.execute_reply": "2025-05-01T22:49:23.058650Z",
     "shell.execute_reply.started": "2025-05-01T22:49:23.005097Z"
    },
    "trusted": true
   },
   "outputs": [],
   "source": [
    "import cv2\n",
    "import numpy as np\n",
    "import torchvision.transforms as transforms\n",
    "\n",
    "def visualize_cv2(model, dataloader, device):\n",
    "    model.eval()\n",
    "    lr, hr = next(iter(dataloader))\n",
    "    lr_tensor = lr.to(device)\n",
    "\n",
    "    with torch.no_grad():\n",
    "        sr = model(lr_tensor).cpu()\n",
    "\n",
    "    # Take one sample from the batch\n",
    "    for i in range(min(1, lr_tensor.size(0))):\n",
    "        sr_img = transforms.ToPILImage()(sr[i].clamp(0, 1))\n",
    "        hr_img = transforms.ToPILImage()(hr[i])\n",
    "        lr_img = transforms.ToPILImage()(lr[i])\n",
    "\n",
    "        # Convert PIL to NumPy (BGR for OpenCV)\n",
    "        sr_bgr = cv2.cvtColor(np.array(sr_img), cv2.COLOR_RGB2BGR)\n",
    "        hr_bgr = cv2.cvtColor(np.array(hr_img), cv2.COLOR_RGB2BGR)\n",
    "        lr_bgr = cv2.cvtColor(np.array(lr_img), cv2.COLOR_RGB2BGR)\n",
    "\n",
    "        # Optionally resize LR image to HR size for better viewing\n",
    "        lr_resized = cv2.resize(lr_bgr, (hr_bgr.shape[1], hr_bgr.shape[0]), interpolation=cv2.INTER_NEAREST)\n",
    "\n",
    "        # Show in separate windows\n",
    "        cv2.imshow('Low-Resolution', lr_resized)\n",
    "        cv2.imshow('Super-Resolved', sr_bgr)\n",
    "        cv2.imshow('High-Resolution', hr_bgr)\n",
    "\n",
    "        cv2.waitKey(0)\n",
    "        cv2.destroyAllWindows()\n",
    "\n",
    "\n"
   ]
  },
  {
   "cell_type": "code",
   "execution_count": null,
   "metadata": {
    "trusted": true
   },
   "outputs": [],
   "source": [
    "import kagglehub\n",
    "\n",
    "# Download latest version\n",
    "path = kagglehub.dataset_download(\"joe1995/div2k-dataset\")\n",
    "\n",
    "print(\"Path to dataset files:\", path)"
   ]
  },
  {
   "cell_type": "code",
   "execution_count": null,
   "metadata": {
    "trusted": true
   },
   "outputs": [],
   "source": [
    "from PIL import Image\n",
    "import os\n",
    "\n",
    "def center_crop_images(dataset_path, output_path):\n",
    "    os.makedirs(output_path, exist_ok=True)\n",
    "\n",
    "    image_files = [f for f in os.listdir(dataset_path) if f.lower().endswith(('.png', '.jpg', '.jpeg'))]\n",
    "\n",
    "    min_width = float('inf')\n",
    "    min_height = float('inf')\n",
    "\n",
    "    for image_file in image_files:\n",
    "        with Image.open(os.path.join(dataset_path, image_file)) as img:\n",
    "            width, height = img.size\n",
    "            min_width = min(min_width, width)\n",
    "            min_height = min(min_height, height)\n",
    "\n",
    "    for image_file in image_files:\n",
    "        input_path = os.path.join(dataset_path, image_file)\n",
    "        output_path_file = os.path.join(output_path, image_file)\n",
    "\n",
    "        with Image.open(input_path) as img:\n",
    "            width, height = img.size\n",
    "            left = (width - min_width) // 2\n",
    "            top = (height - min_height) // 2\n",
    "            right = left + min_width\n",
    "            bottom = top + min_height\n",
    "\n",
    "            cropped_img = img.crop((left, top, right, bottom))\n",
    "            cropped_img.save(output_path_file)\n",
    "\n",
    "# Use /kaggle/working for outputs\n",
    "input_folder = \"/kaggle/input/div2k-dataset/DIV2K_train_HR/DIV2K_train_HR\"\n",
    "output_folder = \"/kaggle/working/DIV2K_train_HR_Cropped\"\n",
    "center_crop_images(input_folder, output_folder)\n",
    "\n",
    "input_folder_val = \"/kaggle/input/div2k-dataset/DIV2K_valid_HR/DIV2K_valid_HR\"\n",
    "output_folder_val = \"/kaggle/working/DIV2K_valid_HR_Cropped\"\n",
    "center_crop_images(input_folder_val, output_folder_val)\n"
   ]
  },
  {
   "cell_type": "code",
   "execution_count": 7,
   "metadata": {
    "execution": {
     "iopub.execute_input": "2025-05-01T22:49:30.830439Z",
     "iopub.status.busy": "2025-05-01T22:49:30.830134Z",
     "iopub.status.idle": "2025-05-01T22:49:30.837561Z",
     "shell.execute_reply": "2025-05-01T22:49:30.836775Z",
     "shell.execute_reply.started": "2025-05-01T22:49:30.830416Z"
    },
    "trusted": true
   },
   "outputs": [],
   "source": [
    "from torchvision import transforms\n",
    "from torch.utils.data import DataLoader\n",
    "\n",
    "# Path to Kaggle dataset after auto-unzipping\n",
    "DIV2K_TRAIN_PATH = \"/kaggle/working/DIV2K_train_HR_Cropped\"\n",
    "DIV2K_VALID_PATH = \"/kaggle/working/DIV2K_valid_HR_Cropped\"\n",
    "\n",
    "# Image transform\n",
    "transform = transforms.Compose([\n",
    "    transforms.ToTensor()\n",
    "])\n",
    "\n",
    "# Dataset class (assuming yours handles HR -> LR conversion)\n",
    "train_dataset = DIV2KDataset(DIV2K_TRAIN_PATH, transform=transform, scale=2)\n",
    "val_dataset = DIV2KDataset(DIV2K_VALID_PATH, transform=transform, scale=2)\n",
    "\n",
    "# DataLoader setup\n",
    "train_loader = DataLoader(train_dataset, batch_size=2, shuffle=True, num_workers=2)\n",
    "val_loader = DataLoader(val_dataset, batch_size=1)\n"
   ]
  },
  {
   "cell_type": "code",
   "execution_count": 8,
   "metadata": {
    "execution": {
     "iopub.execute_input": "2025-05-01T22:49:34.126419Z",
     "iopub.status.busy": "2025-05-01T22:49:34.126129Z",
     "iopub.status.idle": "2025-05-01T22:49:34.296878Z",
     "shell.execute_reply": "2025-05-01T22:49:34.296085Z",
     "shell.execute_reply.started": "2025-05-01T22:49:34.126399Z"
    },
    "trusted": true
   },
   "outputs": [
    {
     "name": "stdout",
     "output_type": "stream",
     "text": [
      "cuda\n"
     ]
    }
   ],
   "source": [
    "device = torch.device(\"cuda\" if torch.cuda.is_available() else \"cpu\")\n",
    "print(device)\n",
    "model = RestormerTiny(dim=32, num_blocks=4, scale=2).to(device)"
   ]
  },
  {
   "cell_type": "code",
   "execution_count": 9,
   "metadata": {
    "execution": {
     "iopub.execute_input": "2025-05-01T22:49:43.322494Z",
     "iopub.status.busy": "2025-05-01T22:49:43.321612Z",
     "iopub.status.idle": "2025-05-01T22:49:43.328177Z",
     "shell.execute_reply": "2025-05-01T22:49:43.327494Z",
     "shell.execute_reply.started": "2025-05-01T22:49:43.322466Z"
    },
    "trusted": true
   },
   "outputs": [
    {
     "name": "stdout",
     "output_type": "stream",
     "text": [
      "Training images: 800\n",
      "Validation images: 100\n"
     ]
    }
   ],
   "source": [
    "train_dir = \"/kaggle/working/DIV2K_train_HR_Cropped\"\n",
    "val_dir = \"/kaggle/working/DIV2K_valid_HR_Cropped\"\n",
    "\n",
    "train_size = len([f for f in os.listdir(train_dir) if f.lower().endswith(('.png', '.jpg', '.jpeg'))])\n",
    "val_size = len([f for f in os.listdir(val_dir) if f.lower().endswith(('.png', '.jpg', '.jpeg'))])\n",
    "\n",
    "print(f\"Training images: {train_size}\")\n",
    "print(f\"Validation images: {val_size}\")"
   ]
  },
  {
   "cell_type": "code",
   "execution_count": 17,
   "metadata": {
    "execution": {
     "iopub.execute_input": "2025-05-01T23:01:16.303731Z",
     "iopub.status.busy": "2025-05-01T23:01:16.302933Z",
     "iopub.status.idle": "2025-05-02T02:39:38.768156Z",
     "shell.execute_reply": "2025-05-02T02:39:38.767097Z",
     "shell.execute_reply.started": "2025-05-01T23:01:16.303701Z"
    },
    "trusted": true
   },
   "outputs": [
    {
     "name": "stderr",
     "output_type": "stream",
     "text": [
      "Epoch 1: 100%|██████████| 400/400 [01:54<00:00,  3.49it/s]\n"
     ]
    },
    {
     "name": "stdout",
     "output_type": "stream",
     "text": [
      "[GPU] Memory allocated: 241.28 MB | reserved: 327.16 MB\n",
      "Epoch 1: Train Loss = 0.0025, Val Loss = 0.0021, PSNR = 28.02, SSIM = 0.8451\n"
     ]
    },
    {
     "name": "stderr",
     "output_type": "stream",
     "text": [
      "Epoch 2: 100%|██████████| 400/400 [01:54<00:00,  3.49it/s]\n"
     ]
    },
    {
     "name": "stdout",
     "output_type": "stream",
     "text": [
      "[GPU] Memory allocated: 241.28 MB | reserved: 354.42 MB\n",
      "Epoch 2: Train Loss = 0.0022, Val Loss = 0.0019, PSNR = 28.61, SSIM = 0.8550\n"
     ]
    },
    {
     "name": "stderr",
     "output_type": "stream",
     "text": [
      "Epoch 3: 100%|██████████| 400/400 [01:54<00:00,  3.49it/s]\n"
     ]
    },
    {
     "name": "stdout",
     "output_type": "stream",
     "text": [
      "[GPU] Memory allocated: 241.28 MB | reserved: 354.42 MB\n",
      "Epoch 3: Train Loss = 0.0020, Val Loss = 0.0018, PSNR = 28.99, SSIM = 0.8648\n"
     ]
    },
    {
     "name": "stderr",
     "output_type": "stream",
     "text": [
      "Epoch 4: 100%|██████████| 400/400 [01:54<00:00,  3.48it/s]\n"
     ]
    },
    {
     "name": "stdout",
     "output_type": "stream",
     "text": [
      "[GPU] Memory allocated: 241.28 MB | reserved: 354.42 MB\n",
      "Epoch 4: Train Loss = 0.0020, Val Loss = 0.0017, PSNR = 29.32, SSIM = 0.8697\n"
     ]
    },
    {
     "name": "stderr",
     "output_type": "stream",
     "text": [
      "Epoch 5: 100%|██████████| 400/400 [01:54<00:00,  3.48it/s]\n"
     ]
    },
    {
     "name": "stdout",
     "output_type": "stream",
     "text": [
      "[GPU] Memory allocated: 241.28 MB | reserved: 354.42 MB\n",
      "Epoch 5: Train Loss = 0.0019, Val Loss = 0.0016, PSNR = 29.45, SSIM = 0.8725\n"
     ]
    },
    {
     "name": "stderr",
     "output_type": "stream",
     "text": [
      "Epoch 6: 100%|██████████| 400/400 [01:54<00:00,  3.48it/s]\n"
     ]
    },
    {
     "name": "stdout",
     "output_type": "stream",
     "text": [
      "[GPU] Memory allocated: 241.28 MB | reserved: 354.42 MB\n",
      "Epoch 6: Train Loss = 0.0018, Val Loss = 0.0016, PSNR = 29.78, SSIM = 0.8753\n"
     ]
    },
    {
     "name": "stderr",
     "output_type": "stream",
     "text": [
      "Epoch 7: 100%|██████████| 400/400 [01:55<00:00,  3.48it/s]\n"
     ]
    },
    {
     "name": "stdout",
     "output_type": "stream",
     "text": [
      "[GPU] Memory allocated: 241.28 MB | reserved: 354.42 MB\n",
      "Epoch 7: Train Loss = 0.0018, Val Loss = 0.0016, PSNR = 29.59, SSIM = 0.8783\n"
     ]
    },
    {
     "name": "stderr",
     "output_type": "stream",
     "text": [
      "Epoch 8: 100%|██████████| 400/400 [01:54<00:00,  3.48it/s]\n"
     ]
    },
    {
     "name": "stdout",
     "output_type": "stream",
     "text": [
      "[GPU] Memory allocated: 241.28 MB | reserved: 354.42 MB\n",
      "Epoch 8: Train Loss = 0.0017, Val Loss = 0.0015, PSNR = 30.01, SSIM = 0.8796\n"
     ]
    },
    {
     "name": "stderr",
     "output_type": "stream",
     "text": [
      "Epoch 9: 100%|██████████| 400/400 [01:54<00:00,  3.48it/s]\n"
     ]
    },
    {
     "name": "stdout",
     "output_type": "stream",
     "text": [
      "[GPU] Memory allocated: 241.28 MB | reserved: 354.42 MB\n",
      "Epoch 9: Train Loss = 0.0017, Val Loss = 0.0015, PSNR = 30.15, SSIM = 0.8816\n"
     ]
    },
    {
     "name": "stderr",
     "output_type": "stream",
     "text": [
      "Epoch 10: 100%|██████████| 400/400 [01:54<00:00,  3.48it/s]\n"
     ]
    },
    {
     "name": "stdout",
     "output_type": "stream",
     "text": [
      "[GPU] Memory allocated: 241.28 MB | reserved: 354.42 MB\n",
      "Epoch 10: Train Loss = 0.0017, Val Loss = 0.0015, PSNR = 30.24, SSIM = 0.8846\n"
     ]
    },
    {
     "name": "stderr",
     "output_type": "stream",
     "text": [
      "Epoch 11: 100%|██████████| 400/400 [01:54<00:00,  3.48it/s]\n"
     ]
    },
    {
     "name": "stdout",
     "output_type": "stream",
     "text": [
      "[GPU] Memory allocated: 241.28 MB | reserved: 354.42 MB\n",
      "Epoch 11: Train Loss = 0.0017, Val Loss = 0.0014, PSNR = 30.40, SSIM = 0.8854\n"
     ]
    },
    {
     "name": "stderr",
     "output_type": "stream",
     "text": [
      "Epoch 12: 100%|██████████| 400/400 [01:54<00:00,  3.48it/s]\n"
     ]
    },
    {
     "name": "stdout",
     "output_type": "stream",
     "text": [
      "[GPU] Memory allocated: 241.28 MB | reserved: 354.42 MB\n",
      "Epoch 12: Train Loss = 0.0016, Val Loss = 0.0015, PSNR = 30.00, SSIM = 0.8841\n"
     ]
    },
    {
     "name": "stderr",
     "output_type": "stream",
     "text": [
      "Epoch 13: 100%|██████████| 400/400 [01:54<00:00,  3.48it/s]\n"
     ]
    },
    {
     "name": "stdout",
     "output_type": "stream",
     "text": [
      "[GPU] Memory allocated: 241.28 MB | reserved: 354.42 MB\n",
      "Epoch 13: Train Loss = 0.0016, Val Loss = 0.0014, PSNR = 30.43, SSIM = 0.8875\n"
     ]
    },
    {
     "name": "stderr",
     "output_type": "stream",
     "text": [
      "Epoch 14: 100%|██████████| 400/400 [01:55<00:00,  3.48it/s]\n"
     ]
    },
    {
     "name": "stdout",
     "output_type": "stream",
     "text": [
      "[GPU] Memory allocated: 241.28 MB | reserved: 354.42 MB\n",
      "Epoch 14: Train Loss = 0.0016, Val Loss = 0.0014, PSNR = 30.46, SSIM = 0.8888\n"
     ]
    },
    {
     "name": "stderr",
     "output_type": "stream",
     "text": [
      "Epoch 15: 100%|██████████| 400/400 [01:54<00:00,  3.48it/s]\n"
     ]
    },
    {
     "name": "stdout",
     "output_type": "stream",
     "text": [
      "[GPU] Memory allocated: 241.28 MB | reserved: 354.42 MB\n",
      "Epoch 15: Train Loss = 0.0016, Val Loss = 0.0014, PSNR = 30.60, SSIM = 0.8901\n"
     ]
    },
    {
     "name": "stderr",
     "output_type": "stream",
     "text": [
      "Epoch 16: 100%|██████████| 400/400 [01:54<00:00,  3.48it/s]\n"
     ]
    },
    {
     "name": "stdout",
     "output_type": "stream",
     "text": [
      "[GPU] Memory allocated: 241.28 MB | reserved: 354.42 MB\n",
      "Epoch 16: Train Loss = 0.0016, Val Loss = 0.0014, PSNR = 30.56, SSIM = 0.8888\n"
     ]
    },
    {
     "name": "stderr",
     "output_type": "stream",
     "text": [
      "Epoch 17: 100%|██████████| 400/400 [01:54<00:00,  3.48it/s]\n"
     ]
    },
    {
     "name": "stdout",
     "output_type": "stream",
     "text": [
      "[GPU] Memory allocated: 241.28 MB | reserved: 354.42 MB\n",
      "Epoch 17: Train Loss = 0.0016, Val Loss = 0.0014, PSNR = 30.53, SSIM = 0.8891\n"
     ]
    },
    {
     "name": "stderr",
     "output_type": "stream",
     "text": [
      "Epoch 18: 100%|██████████| 400/400 [01:54<00:00,  3.48it/s]\n"
     ]
    },
    {
     "name": "stdout",
     "output_type": "stream",
     "text": [
      "[GPU] Memory allocated: 241.28 MB | reserved: 354.42 MB\n",
      "Epoch 18: Train Loss = 0.0016, Val Loss = 0.0014, PSNR = 30.68, SSIM = 0.8910\n"
     ]
    },
    {
     "name": "stderr",
     "output_type": "stream",
     "text": [
      "Epoch 19: 100%|██████████| 400/400 [01:54<00:00,  3.48it/s]\n"
     ]
    },
    {
     "name": "stdout",
     "output_type": "stream",
     "text": [
      "[GPU] Memory allocated: 241.28 MB | reserved: 354.42 MB\n",
      "Epoch 19: Train Loss = 0.0016, Val Loss = 0.0014, PSNR = 30.76, SSIM = 0.8928\n"
     ]
    },
    {
     "name": "stderr",
     "output_type": "stream",
     "text": [
      "Epoch 20: 100%|██████████| 400/400 [01:54<00:00,  3.48it/s]\n"
     ]
    },
    {
     "name": "stdout",
     "output_type": "stream",
     "text": [
      "[GPU] Memory allocated: 241.28 MB | reserved: 354.42 MB\n",
      "Epoch 20: Train Loss = 0.0016, Val Loss = 0.0013, PSNR = 30.84, SSIM = 0.8931\n"
     ]
    },
    {
     "name": "stderr",
     "output_type": "stream",
     "text": [
      "Epoch 21: 100%|██████████| 400/400 [01:54<00:00,  3.48it/s]\n"
     ]
    },
    {
     "name": "stdout",
     "output_type": "stream",
     "text": [
      "[GPU] Memory allocated: 241.28 MB | reserved: 354.42 MB\n",
      "Epoch 21: Train Loss = 0.0015, Val Loss = 0.0013, PSNR = 30.86, SSIM = 0.8936\n"
     ]
    },
    {
     "name": "stderr",
     "output_type": "stream",
     "text": [
      "Epoch 22: 100%|██████████| 400/400 [01:54<00:00,  3.49it/s]\n"
     ]
    },
    {
     "name": "stdout",
     "output_type": "stream",
     "text": [
      "[GPU] Memory allocated: 241.28 MB | reserved: 354.42 MB\n",
      "Epoch 22: Train Loss = 0.0015, Val Loss = 0.0013, PSNR = 30.88, SSIM = 0.8942\n"
     ]
    },
    {
     "name": "stderr",
     "output_type": "stream",
     "text": [
      "Epoch 23: 100%|██████████| 400/400 [01:55<00:00,  3.48it/s]\n"
     ]
    },
    {
     "name": "stdout",
     "output_type": "stream",
     "text": [
      "[GPU] Memory allocated: 241.28 MB | reserved: 354.42 MB\n",
      "Epoch 23: Train Loss = 0.0015, Val Loss = 0.0013, PSNR = 30.89, SSIM = 0.8944\n"
     ]
    },
    {
     "name": "stderr",
     "output_type": "stream",
     "text": [
      "Epoch 25: 100%|██████████| 400/400 [01:54<00:00,  3.49it/s]\n"
     ]
    },
    {
     "name": "stdout",
     "output_type": "stream",
     "text": [
      "[GPU] Memory allocated: 241.28 MB | reserved: 354.42 MB\n",
      "Epoch 25: Train Loss = 0.0015, Val Loss = 0.0013, PSNR = 30.91, SSIM = 0.8958\n"
     ]
    },
    {
     "name": "stderr",
     "output_type": "stream",
     "text": [
      "Epoch 26: 100%|██████████| 400/400 [01:54<00:00,  3.49it/s]\n"
     ]
    },
    {
     "name": "stdout",
     "output_type": "stream",
     "text": [
      "[GPU] Memory allocated: 241.28 MB | reserved: 354.42 MB\n",
      "Epoch 26: Train Loss = 0.0015, Val Loss = 0.0013, PSNR = 30.76, SSIM = 0.8935\n"
     ]
    },
    {
     "name": "stderr",
     "output_type": "stream",
     "text": [
      "Epoch 27: 100%|██████████| 400/400 [01:54<00:00,  3.48it/s]\n"
     ]
    },
    {
     "name": "stdout",
     "output_type": "stream",
     "text": [
      "[GPU] Memory allocated: 241.28 MB | reserved: 354.42 MB\n",
      "Epoch 27: Train Loss = 0.0015, Val Loss = 0.0013, PSNR = 31.00, SSIM = 0.8969\n"
     ]
    },
    {
     "name": "stderr",
     "output_type": "stream",
     "text": [
      "Epoch 28: 100%|██████████| 400/400 [01:54<00:00,  3.49it/s]\n"
     ]
    },
    {
     "name": "stdout",
     "output_type": "stream",
     "text": [
      "[GPU] Memory allocated: 241.28 MB | reserved: 354.42 MB\n",
      "Epoch 28: Train Loss = 0.0015, Val Loss = 0.0013, PSNR = 30.96, SSIM = 0.8958\n"
     ]
    },
    {
     "name": "stderr",
     "output_type": "stream",
     "text": [
      "Epoch 29: 100%|██████████| 400/400 [01:54<00:00,  3.48it/s]\n"
     ]
    },
    {
     "name": "stdout",
     "output_type": "stream",
     "text": [
      "[GPU] Memory allocated: 241.28 MB | reserved: 354.42 MB\n",
      "Epoch 29: Train Loss = 0.0015, Val Loss = 0.0013, PSNR = 31.04, SSIM = 0.8977\n"
     ]
    },
    {
     "name": "stderr",
     "output_type": "stream",
     "text": [
      "Epoch 30: 100%|██████████| 400/400 [01:54<00:00,  3.48it/s]\n"
     ]
    },
    {
     "name": "stdout",
     "output_type": "stream",
     "text": [
      "[GPU] Memory allocated: 241.28 MB | reserved: 354.42 MB\n",
      "Epoch 30: Train Loss = 0.0015, Val Loss = 0.0013, PSNR = 31.02, SSIM = 0.8983\n"
     ]
    },
    {
     "name": "stderr",
     "output_type": "stream",
     "text": [
      "Epoch 31: 100%|██████████| 400/400 [01:54<00:00,  3.48it/s]\n"
     ]
    },
    {
     "name": "stdout",
     "output_type": "stream",
     "text": [
      "[GPU] Memory allocated: 241.28 MB | reserved: 354.42 MB\n",
      "Epoch 31: Train Loss = 0.0015, Val Loss = 0.0013, PSNR = 31.06, SSIM = 0.8978\n"
     ]
    },
    {
     "name": "stderr",
     "output_type": "stream",
     "text": [
      "Epoch 32: 100%|██████████| 400/400 [01:54<00:00,  3.48it/s]\n"
     ]
    },
    {
     "name": "stdout",
     "output_type": "stream",
     "text": [
      "[GPU] Memory allocated: 241.28 MB | reserved: 354.42 MB\n",
      "Epoch 32: Train Loss = 0.0015, Val Loss = 0.0013, PSNR = 31.07, SSIM = 0.8981\n"
     ]
    },
    {
     "name": "stderr",
     "output_type": "stream",
     "text": [
      "Epoch 33: 100%|██████████| 400/400 [01:54<00:00,  3.49it/s]\n"
     ]
    },
    {
     "name": "stdout",
     "output_type": "stream",
     "text": [
      "[GPU] Memory allocated: 241.28 MB | reserved: 354.42 MB\n",
      "Epoch 33: Train Loss = 0.0015, Val Loss = 0.0013, PSNR = 31.13, SSIM = 0.8980\n"
     ]
    },
    {
     "name": "stderr",
     "output_type": "stream",
     "text": [
      "Epoch 34: 100%|██████████| 400/400 [01:54<00:00,  3.49it/s]\n"
     ]
    },
    {
     "name": "stdout",
     "output_type": "stream",
     "text": [
      "[GPU] Memory allocated: 241.28 MB | reserved: 354.42 MB\n",
      "Epoch 34: Train Loss = 0.0015, Val Loss = 0.0013, PSNR = 30.56, SSIM = 0.8955\n"
     ]
    },
    {
     "name": "stderr",
     "output_type": "stream",
     "text": [
      "Epoch 35: 100%|██████████| 400/400 [01:54<00:00,  3.49it/s]\n"
     ]
    },
    {
     "name": "stdout",
     "output_type": "stream",
     "text": [
      "[GPU] Memory allocated: 241.28 MB | reserved: 354.42 MB\n",
      "Epoch 35: Train Loss = 0.0015, Val Loss = 0.0013, PSNR = 31.15, SSIM = 0.8979\n"
     ]
    },
    {
     "name": "stderr",
     "output_type": "stream",
     "text": [
      "Epoch 36: 100%|██████████| 400/400 [01:54<00:00,  3.49it/s]\n"
     ]
    },
    {
     "name": "stdout",
     "output_type": "stream",
     "text": [
      "[GPU] Memory allocated: 241.28 MB | reserved: 354.42 MB\n",
      "Epoch 36: Train Loss = 0.0015, Val Loss = 0.0013, PSNR = 31.16, SSIM = 0.8976\n"
     ]
    },
    {
     "name": "stderr",
     "output_type": "stream",
     "text": [
      "Epoch 37: 100%|██████████| 400/400 [01:54<00:00,  3.49it/s]\n"
     ]
    },
    {
     "name": "stdout",
     "output_type": "stream",
     "text": [
      "[GPU] Memory allocated: 241.28 MB | reserved: 354.42 MB\n",
      "Epoch 37: Train Loss = 0.0015, Val Loss = 0.0013, PSNR = 31.19, SSIM = 0.8985\n"
     ]
    },
    {
     "name": "stderr",
     "output_type": "stream",
     "text": [
      "Epoch 38: 100%|██████████| 400/400 [01:54<00:00,  3.49it/s]\n"
     ]
    },
    {
     "name": "stdout",
     "output_type": "stream",
     "text": [
      "[GPU] Memory allocated: 241.28 MB | reserved: 354.42 MB\n",
      "Epoch 38: Train Loss = 0.0015, Val Loss = 0.0013, PSNR = 31.18, SSIM = 0.8970\n"
     ]
    },
    {
     "name": "stderr",
     "output_type": "stream",
     "text": [
      "Epoch 39: 100%|██████████| 400/400 [01:54<00:00,  3.49it/s]\n"
     ]
    },
    {
     "name": "stdout",
     "output_type": "stream",
     "text": [
      "[GPU] Memory allocated: 241.28 MB | reserved: 354.42 MB\n",
      "Epoch 39: Train Loss = 0.0015, Val Loss = 0.0013, PSNR = 31.23, SSIM = 0.8989\n"
     ]
    },
    {
     "name": "stderr",
     "output_type": "stream",
     "text": [
      "Epoch 40: 100%|██████████| 400/400 [01:54<00:00,  3.49it/s]\n"
     ]
    },
    {
     "name": "stdout",
     "output_type": "stream",
     "text": [
      "[GPU] Memory allocated: 241.28 MB | reserved: 354.42 MB\n",
      "Epoch 40: Train Loss = 0.0014, Val Loss = 0.0013, PSNR = 31.24, SSIM = 0.9007\n"
     ]
    },
    {
     "name": "stderr",
     "output_type": "stream",
     "text": [
      "Epoch 41: 100%|██████████| 400/400 [01:54<00:00,  3.48it/s]\n"
     ]
    },
    {
     "name": "stdout",
     "output_type": "stream",
     "text": [
      "[GPU] Memory allocated: 241.28 MB | reserved: 354.42 MB\n",
      "Epoch 41: Train Loss = 0.0014, Val Loss = 0.0013, PSNR = 31.21, SSIM = 0.9009\n"
     ]
    },
    {
     "name": "stderr",
     "output_type": "stream",
     "text": [
      "Epoch 42: 100%|██████████| 400/400 [01:54<00:00,  3.48it/s]\n"
     ]
    },
    {
     "name": "stdout",
     "output_type": "stream",
     "text": [
      "[GPU] Memory allocated: 241.28 MB | reserved: 354.42 MB\n",
      "Epoch 42: Train Loss = 0.0014, Val Loss = 0.0012, PSNR = 31.23, SSIM = 0.9008\n"
     ]
    },
    {
     "name": "stderr",
     "output_type": "stream",
     "text": [
      "Epoch 43: 100%|██████████| 400/400 [01:54<00:00,  3.49it/s]\n"
     ]
    },
    {
     "name": "stdout",
     "output_type": "stream",
     "text": [
      "[GPU] Memory allocated: 241.28 MB | reserved: 354.42 MB\n",
      "Epoch 43: Train Loss = 0.0014, Val Loss = 0.0013, PSNR = 31.14, SSIM = 0.9006\n"
     ]
    },
    {
     "name": "stderr",
     "output_type": "stream",
     "text": [
      "Epoch 44: 100%|██████████| 400/400 [01:54<00:00,  3.49it/s]\n"
     ]
    },
    {
     "name": "stdout",
     "output_type": "stream",
     "text": [
      "[GPU] Memory allocated: 241.28 MB | reserved: 354.42 MB\n",
      "Epoch 44: Train Loss = 0.0014, Val Loss = 0.0012, PSNR = 31.32, SSIM = 0.9022\n"
     ]
    },
    {
     "name": "stderr",
     "output_type": "stream",
     "text": [
      "Epoch 45: 100%|██████████| 400/400 [01:54<00:00,  3.49it/s]\n"
     ]
    },
    {
     "name": "stdout",
     "output_type": "stream",
     "text": [
      "[GPU] Memory allocated: 241.28 MB | reserved: 354.42 MB\n",
      "Epoch 45: Train Loss = 0.0014, Val Loss = 0.0012, PSNR = 31.16, SSIM = 0.9002\n"
     ]
    },
    {
     "name": "stderr",
     "output_type": "stream",
     "text": [
      "Epoch 46: 100%|██████████| 400/400 [01:54<00:00,  3.49it/s]\n"
     ]
    },
    {
     "name": "stdout",
     "output_type": "stream",
     "text": [
      "[GPU] Memory allocated: 241.28 MB | reserved: 354.42 MB\n",
      "Epoch 46: Train Loss = 0.0014, Val Loss = 0.0012, PSNR = 31.34, SSIM = 0.9017\n"
     ]
    },
    {
     "name": "stderr",
     "output_type": "stream",
     "text": [
      "Epoch 47: 100%|██████████| 400/400 [01:54<00:00,  3.48it/s]\n"
     ]
    },
    {
     "name": "stdout",
     "output_type": "stream",
     "text": [
      "[GPU] Memory allocated: 241.28 MB | reserved: 354.42 MB\n",
      "Epoch 47: Train Loss = 0.0014, Val Loss = 0.0013, PSNR = 31.08, SSIM = 0.9005\n"
     ]
    },
    {
     "name": "stderr",
     "output_type": "stream",
     "text": [
      "Epoch 48: 100%|██████████| 400/400 [01:54<00:00,  3.48it/s]\n"
     ]
    },
    {
     "name": "stdout",
     "output_type": "stream",
     "text": [
      "[GPU] Memory allocated: 241.28 MB | reserved: 354.42 MB\n",
      "Epoch 48: Train Loss = 0.0014, Val Loss = 0.0012, PSNR = 31.37, SSIM = 0.9015\n"
     ]
    },
    {
     "name": "stderr",
     "output_type": "stream",
     "text": [
      "Epoch 49: 100%|██████████| 400/400 [01:54<00:00,  3.48it/s]\n"
     ]
    },
    {
     "name": "stdout",
     "output_type": "stream",
     "text": [
      "[GPU] Memory allocated: 241.28 MB | reserved: 354.42 MB\n",
      "Epoch 49: Train Loss = 0.0014, Val Loss = 0.0012, PSNR = 31.34, SSIM = 0.9018\n"
     ]
    },
    {
     "name": "stderr",
     "output_type": "stream",
     "text": [
      "Epoch 50: 100%|██████████| 400/400 [01:54<00:00,  3.49it/s]\n"
     ]
    },
    {
     "name": "stdout",
     "output_type": "stream",
     "text": [
      "[GPU] Memory allocated: 241.28 MB | reserved: 354.42 MB\n",
      "Epoch 50: Train Loss = 0.0014, Val Loss = 0.0012, PSNR = 31.38, SSIM = 0.9029\n"
     ]
    },
    {
     "name": "stderr",
     "output_type": "stream",
     "text": [
      "Epoch 51: 100%|██████████| 400/400 [01:54<00:00,  3.49it/s]\n"
     ]
    },
    {
     "name": "stdout",
     "output_type": "stream",
     "text": [
      "[GPU] Memory allocated: 241.28 MB | reserved: 354.42 MB\n",
      "Epoch 51: Train Loss = 0.0014, Val Loss = 0.0012, PSNR = 31.19, SSIM = 0.9023\n"
     ]
    },
    {
     "name": "stderr",
     "output_type": "stream",
     "text": [
      "Epoch 52: 100%|██████████| 400/400 [01:54<00:00,  3.49it/s]\n"
     ]
    },
    {
     "name": "stdout",
     "output_type": "stream",
     "text": [
      "[GPU] Memory allocated: 241.28 MB | reserved: 354.42 MB\n",
      "Epoch 52: Train Loss = 0.0014, Val Loss = 0.0012, PSNR = 31.44, SSIM = 0.9030\n"
     ]
    },
    {
     "name": "stderr",
     "output_type": "stream",
     "text": [
      "Epoch 53: 100%|██████████| 400/400 [01:54<00:00,  3.49it/s]\n"
     ]
    },
    {
     "name": "stdout",
     "output_type": "stream",
     "text": [
      "[GPU] Memory allocated: 241.28 MB | reserved: 354.42 MB\n",
      "Epoch 53: Train Loss = 0.0014, Val Loss = 0.0012, PSNR = 31.43, SSIM = 0.9032\n"
     ]
    },
    {
     "name": "stderr",
     "output_type": "stream",
     "text": [
      "Epoch 54: 100%|██████████| 400/400 [01:54<00:00,  3.48it/s]\n"
     ]
    },
    {
     "name": "stdout",
     "output_type": "stream",
     "text": [
      "[GPU] Memory allocated: 241.28 MB | reserved: 354.42 MB\n",
      "Epoch 54: Train Loss = 0.0014, Val Loss = 0.0013, PSNR = 31.02, SSIM = 0.8989\n"
     ]
    },
    {
     "name": "stderr",
     "output_type": "stream",
     "text": [
      "Epoch 55: 100%|██████████| 400/400 [01:54<00:00,  3.48it/s]\n"
     ]
    },
    {
     "name": "stdout",
     "output_type": "stream",
     "text": [
      "[GPU] Memory allocated: 241.28 MB | reserved: 354.42 MB\n",
      "Epoch 55: Train Loss = 0.0014, Val Loss = 0.0012, PSNR = 31.45, SSIM = 0.9024\n"
     ]
    },
    {
     "name": "stderr",
     "output_type": "stream",
     "text": [
      "Epoch 56: 100%|██████████| 400/400 [01:54<00:00,  3.49it/s]\n"
     ]
    },
    {
     "name": "stdout",
     "output_type": "stream",
     "text": [
      "[GPU] Memory allocated: 241.28 MB | reserved: 354.42 MB\n",
      "Epoch 56: Train Loss = 0.0014, Val Loss = 0.0012, PSNR = 31.41, SSIM = 0.9034\n"
     ]
    },
    {
     "name": "stderr",
     "output_type": "stream",
     "text": [
      "Epoch 57: 100%|██████████| 400/400 [01:54<00:00,  3.49it/s]\n"
     ]
    },
    {
     "name": "stdout",
     "output_type": "stream",
     "text": [
      "[GPU] Memory allocated: 241.28 MB | reserved: 354.42 MB\n",
      "Epoch 57: Train Loss = 0.0014, Val Loss = 0.0014, PSNR = 30.09, SSIM = 0.8855\n"
     ]
    },
    {
     "name": "stderr",
     "output_type": "stream",
     "text": [
      "Epoch 58: 100%|██████████| 400/400 [01:54<00:00,  3.48it/s]\n"
     ]
    },
    {
     "name": "stdout",
     "output_type": "stream",
     "text": [
      "[GPU] Memory allocated: 241.28 MB | reserved: 354.42 MB\n",
      "Epoch 58: Train Loss = 0.0014, Val Loss = 0.0012, PSNR = 31.49, SSIM = 0.9035\n"
     ]
    },
    {
     "name": "stderr",
     "output_type": "stream",
     "text": [
      "Epoch 59: 100%|██████████| 400/400 [01:54<00:00,  3.49it/s]\n"
     ]
    },
    {
     "name": "stdout",
     "output_type": "stream",
     "text": [
      "[GPU] Memory allocated: 241.28 MB | reserved: 354.42 MB\n",
      "Epoch 59: Train Loss = 0.0014, Val Loss = 0.0012, PSNR = 31.38, SSIM = 0.9033\n"
     ]
    },
    {
     "name": "stderr",
     "output_type": "stream",
     "text": [
      "Epoch 60: 100%|██████████| 400/400 [01:54<00:00,  3.49it/s]\n"
     ]
    },
    {
     "name": "stdout",
     "output_type": "stream",
     "text": [
      "[GPU] Memory allocated: 241.28 MB | reserved: 354.42 MB\n",
      "Epoch 60: Train Loss = 0.0014, Val Loss = 0.0012, PSNR = 31.49, SSIM = 0.9039\n"
     ]
    },
    {
     "name": "stderr",
     "output_type": "stream",
     "text": [
      "Epoch 61: 100%|██████████| 400/400 [01:54<00:00,  3.49it/s]\n"
     ]
    },
    {
     "name": "stdout",
     "output_type": "stream",
     "text": [
      "[GPU] Memory allocated: 241.28 MB | reserved: 354.42 MB\n",
      "Epoch 61: Train Loss = 0.0014, Val Loss = 0.0012, PSNR = 31.54, SSIM = 0.9045\n"
     ]
    },
    {
     "name": "stderr",
     "output_type": "stream",
     "text": [
      "Epoch 62: 100%|██████████| 400/400 [01:54<00:00,  3.49it/s]\n"
     ]
    },
    {
     "name": "stdout",
     "output_type": "stream",
     "text": [
      "[GPU] Memory allocated: 241.28 MB | reserved: 354.42 MB\n",
      "Epoch 62: Train Loss = 0.0014, Val Loss = 0.0013, PSNR = 30.82, SSIM = 0.8977\n"
     ]
    },
    {
     "name": "stderr",
     "output_type": "stream",
     "text": [
      "Epoch 63: 100%|██████████| 400/400 [01:54<00:00,  3.49it/s]\n"
     ]
    },
    {
     "name": "stdout",
     "output_type": "stream",
     "text": [
      "[GPU] Memory allocated: 241.28 MB | reserved: 354.42 MB\n",
      "Epoch 63: Train Loss = 0.0014, Val Loss = 0.0012, PSNR = 31.48, SSIM = 0.9028\n"
     ]
    },
    {
     "name": "stderr",
     "output_type": "stream",
     "text": [
      "Epoch 64: 100%|██████████| 400/400 [01:54<00:00,  3.49it/s]\n"
     ]
    },
    {
     "name": "stdout",
     "output_type": "stream",
     "text": [
      "[GPU] Memory allocated: 241.28 MB | reserved: 354.42 MB\n",
      "Epoch 64: Train Loss = 0.0014, Val Loss = 0.0012, PSNR = 31.52, SSIM = 0.9032\n"
     ]
    },
    {
     "name": "stderr",
     "output_type": "stream",
     "text": [
      "Epoch 65: 100%|██████████| 400/400 [01:54<00:00,  3.48it/s]\n"
     ]
    },
    {
     "name": "stdout",
     "output_type": "stream",
     "text": [
      "[GPU] Memory allocated: 241.28 MB | reserved: 354.42 MB\n",
      "Epoch 65: Train Loss = 0.0014, Val Loss = 0.0012, PSNR = 31.49, SSIM = 0.9035\n"
     ]
    },
    {
     "name": "stderr",
     "output_type": "stream",
     "text": [
      "Epoch 66: 100%|██████████| 400/400 [01:54<00:00,  3.48it/s]\n"
     ]
    },
    {
     "name": "stdout",
     "output_type": "stream",
     "text": [
      "[GPU] Memory allocated: 241.28 MB | reserved: 354.42 MB\n",
      "Epoch 66: Train Loss = 0.0014, Val Loss = 0.0012, PSNR = 31.38, SSIM = 0.9015\n"
     ]
    },
    {
     "name": "stderr",
     "output_type": "stream",
     "text": [
      "Epoch 67: 100%|██████████| 400/400 [01:54<00:00,  3.49it/s]\n"
     ]
    },
    {
     "name": "stdout",
     "output_type": "stream",
     "text": [
      "[GPU] Memory allocated: 241.28 MB | reserved: 354.42 MB\n",
      "Epoch 67: Train Loss = 0.0014, Val Loss = 0.0012, PSNR = 31.57, SSIM = 0.9038\n"
     ]
    },
    {
     "name": "stderr",
     "output_type": "stream",
     "text": [
      "Epoch 68: 100%|██████████| 400/400 [01:54<00:00,  3.48it/s]\n"
     ]
    },
    {
     "name": "stdout",
     "output_type": "stream",
     "text": [
      "[GPU] Memory allocated: 241.28 MB | reserved: 354.42 MB\n",
      "Epoch 68: Train Loss = 0.0014, Val Loss = 0.0012, PSNR = 31.57, SSIM = 0.9041\n"
     ]
    },
    {
     "name": "stderr",
     "output_type": "stream",
     "text": [
      "Epoch 69: 100%|██████████| 400/400 [01:54<00:00,  3.49it/s]\n"
     ]
    },
    {
     "name": "stdout",
     "output_type": "stream",
     "text": [
      "[GPU] Memory allocated: 241.28 MB | reserved: 354.42 MB\n",
      "Epoch 69: Train Loss = 0.0014, Val Loss = 0.0012, PSNR = 31.36, SSIM = 0.9021\n"
     ]
    },
    {
     "name": "stderr",
     "output_type": "stream",
     "text": [
      "Epoch 70: 100%|██████████| 400/400 [01:54<00:00,  3.48it/s]\n"
     ]
    },
    {
     "name": "stdout",
     "output_type": "stream",
     "text": [
      "[GPU] Memory allocated: 241.28 MB | reserved: 354.42 MB\n",
      "Epoch 70: Train Loss = 0.0014, Val Loss = 0.0012, PSNR = 31.56, SSIM = 0.9038\n"
     ]
    },
    {
     "name": "stderr",
     "output_type": "stream",
     "text": [
      "Epoch 71: 100%|██████████| 400/400 [01:54<00:00,  3.49it/s]\n"
     ]
    },
    {
     "name": "stdout",
     "output_type": "stream",
     "text": [
      "[GPU] Memory allocated: 241.28 MB | reserved: 354.42 MB\n",
      "Epoch 71: Train Loss = 0.0014, Val Loss = 0.0012, PSNR = 31.54, SSIM = 0.9057\n"
     ]
    },
    {
     "name": "stderr",
     "output_type": "stream",
     "text": [
      "Epoch 72: 100%|██████████| 400/400 [01:54<00:00,  3.49it/s]\n"
     ]
    },
    {
     "name": "stdout",
     "output_type": "stream",
     "text": [
      "[GPU] Memory allocated: 241.28 MB | reserved: 354.42 MB\n",
      "Epoch 72: Train Loss = 0.0014, Val Loss = 0.0012, PSNR = 31.60, SSIM = 0.9058\n"
     ]
    },
    {
     "name": "stderr",
     "output_type": "stream",
     "text": [
      "Epoch 73: 100%|██████████| 400/400 [01:54<00:00,  3.48it/s]\n"
     ]
    },
    {
     "name": "stdout",
     "output_type": "stream",
     "text": [
      "[GPU] Memory allocated: 241.28 MB | reserved: 354.42 MB\n",
      "Epoch 73: Train Loss = 0.0014, Val Loss = 0.0012, PSNR = 31.60, SSIM = 0.9065\n"
     ]
    },
    {
     "name": "stderr",
     "output_type": "stream",
     "text": [
      "Epoch 74: 100%|██████████| 400/400 [01:54<00:00,  3.48it/s]\n"
     ]
    },
    {
     "name": "stdout",
     "output_type": "stream",
     "text": [
      "[GPU] Memory allocated: 241.28 MB | reserved: 354.42 MB\n",
      "Epoch 74: Train Loss = 0.0014, Val Loss = 0.0012, PSNR = 31.46, SSIM = 0.9032\n"
     ]
    },
    {
     "name": "stderr",
     "output_type": "stream",
     "text": [
      "Epoch 75: 100%|██████████| 400/400 [01:54<00:00,  3.48it/s]\n"
     ]
    },
    {
     "name": "stdout",
     "output_type": "stream",
     "text": [
      "[GPU] Memory allocated: 241.28 MB | reserved: 354.42 MB\n",
      "Epoch 75: Train Loss = 0.0014, Val Loss = 0.0012, PSNR = 31.57, SSIM = 0.9052\n"
     ]
    },
    {
     "name": "stderr",
     "output_type": "stream",
     "text": [
      "Epoch 76: 100%|██████████| 400/400 [01:54<00:00,  3.49it/s]\n"
     ]
    },
    {
     "name": "stdout",
     "output_type": "stream",
     "text": [
      "[GPU] Memory allocated: 241.28 MB | reserved: 354.42 MB\n",
      "Epoch 76: Train Loss = 0.0014, Val Loss = 0.0012, PSNR = 31.58, SSIM = 0.9053\n"
     ]
    },
    {
     "name": "stderr",
     "output_type": "stream",
     "text": [
      "Epoch 77: 100%|██████████| 400/400 [01:54<00:00,  3.48it/s]\n"
     ]
    },
    {
     "name": "stdout",
     "output_type": "stream",
     "text": [
      "[GPU] Memory allocated: 241.28 MB | reserved: 354.42 MB\n",
      "Epoch 77: Train Loss = 0.0013, Val Loss = 0.0012, PSNR = 31.52, SSIM = 0.9040\n"
     ]
    },
    {
     "name": "stderr",
     "output_type": "stream",
     "text": [
      "Epoch 78: 100%|██████████| 400/400 [01:54<00:00,  3.48it/s]\n"
     ]
    },
    {
     "name": "stdout",
     "output_type": "stream",
     "text": [
      "[GPU] Memory allocated: 241.28 MB | reserved: 354.42 MB\n",
      "Epoch 78: Train Loss = 0.0013, Val Loss = 0.0012, PSNR = 31.61, SSIM = 0.9057\n"
     ]
    },
    {
     "name": "stderr",
     "output_type": "stream",
     "text": [
      "Epoch 79: 100%|██████████| 400/400 [01:54<00:00,  3.48it/s]\n"
     ]
    },
    {
     "name": "stdout",
     "output_type": "stream",
     "text": [
      "[GPU] Memory allocated: 241.28 MB | reserved: 354.42 MB\n",
      "Epoch 79: Train Loss = 0.0013, Val Loss = 0.0012, PSNR = 31.55, SSIM = 0.9042\n"
     ]
    },
    {
     "name": "stderr",
     "output_type": "stream",
     "text": [
      "Epoch 80: 100%|██████████| 400/400 [01:54<00:00,  3.48it/s]\n"
     ]
    },
    {
     "name": "stdout",
     "output_type": "stream",
     "text": [
      "[GPU] Memory allocated: 241.28 MB | reserved: 354.42 MB\n",
      "Epoch 80: Train Loss = 0.0014, Val Loss = 0.0012, PSNR = 31.43, SSIM = 0.9054\n"
     ]
    },
    {
     "name": "stderr",
     "output_type": "stream",
     "text": [
      "Epoch 81: 100%|██████████| 400/400 [01:54<00:00,  3.48it/s]\n"
     ]
    },
    {
     "name": "stdout",
     "output_type": "stream",
     "text": [
      "[GPU] Memory allocated: 241.28 MB | reserved: 354.42 MB\n",
      "Epoch 81: Train Loss = 0.0013, Val Loss = 0.0011, PSNR = 31.63, SSIM = 0.9060\n"
     ]
    },
    {
     "name": "stderr",
     "output_type": "stream",
     "text": [
      "Epoch 82: 100%|██████████| 400/400 [01:54<00:00,  3.48it/s]\n"
     ]
    },
    {
     "name": "stdout",
     "output_type": "stream",
     "text": [
      "[GPU] Memory allocated: 241.28 MB | reserved: 354.42 MB\n",
      "Epoch 82: Train Loss = 0.0013, Val Loss = 0.0012, PSNR = 31.58, SSIM = 0.9045\n"
     ]
    },
    {
     "name": "stderr",
     "output_type": "stream",
     "text": [
      "Epoch 83: 100%|██████████| 400/400 [01:54<00:00,  3.49it/s]\n"
     ]
    },
    {
     "name": "stdout",
     "output_type": "stream",
     "text": [
      "[GPU] Memory allocated: 241.28 MB | reserved: 354.42 MB\n",
      "Epoch 83: Train Loss = 0.0013, Val Loss = 0.0011, PSNR = 31.68, SSIM = 0.9063\n"
     ]
    },
    {
     "name": "stderr",
     "output_type": "stream",
     "text": [
      "Epoch 84: 100%|██████████| 400/400 [01:54<00:00,  3.49it/s]\n"
     ]
    },
    {
     "name": "stdout",
     "output_type": "stream",
     "text": [
      "[GPU] Memory allocated: 241.28 MB | reserved: 354.42 MB\n",
      "Epoch 84: Train Loss = 0.0013, Val Loss = 0.0011, PSNR = 31.64, SSIM = 0.9057\n"
     ]
    },
    {
     "name": "stderr",
     "output_type": "stream",
     "text": [
      "Epoch 85: 100%|██████████| 400/400 [01:54<00:00,  3.49it/s]\n"
     ]
    },
    {
     "name": "stdout",
     "output_type": "stream",
     "text": [
      "[GPU] Memory allocated: 241.28 MB | reserved: 354.42 MB\n",
      "Epoch 85: Train Loss = 0.0013, Val Loss = 0.0011, PSNR = 31.67, SSIM = 0.9069\n"
     ]
    },
    {
     "name": "stderr",
     "output_type": "stream",
     "text": [
      "Epoch 86: 100%|██████████| 400/400 [01:54<00:00,  3.49it/s]\n"
     ]
    },
    {
     "name": "stdout",
     "output_type": "stream",
     "text": [
      "[GPU] Memory allocated: 241.28 MB | reserved: 354.42 MB\n",
      "Epoch 86: Train Loss = 0.0013, Val Loss = 0.0011, PSNR = 31.66, SSIM = 0.9061\n"
     ]
    },
    {
     "name": "stderr",
     "output_type": "stream",
     "text": [
      "Epoch 87: 100%|██████████| 400/400 [01:54<00:00,  3.49it/s]\n"
     ]
    },
    {
     "name": "stdout",
     "output_type": "stream",
     "text": [
      "[GPU] Memory allocated: 241.28 MB | reserved: 354.42 MB\n",
      "Epoch 87: Train Loss = 0.0013, Val Loss = 0.0011, PSNR = 31.66, SSIM = 0.9061\n"
     ]
    },
    {
     "name": "stderr",
     "output_type": "stream",
     "text": [
      "Epoch 88: 100%|██████████| 400/400 [01:54<00:00,  3.49it/s]\n"
     ]
    },
    {
     "name": "stdout",
     "output_type": "stream",
     "text": [
      "[GPU] Memory allocated: 241.28 MB | reserved: 354.42 MB\n",
      "Epoch 88: Train Loss = 0.0013, Val Loss = 0.0011, PSNR = 31.66, SSIM = 0.9072\n"
     ]
    },
    {
     "name": "stderr",
     "output_type": "stream",
     "text": [
      "Epoch 89: 100%|██████████| 400/400 [01:54<00:00,  3.49it/s]\n"
     ]
    },
    {
     "name": "stdout",
     "output_type": "stream",
     "text": [
      "[GPU] Memory allocated: 241.28 MB | reserved: 354.42 MB\n",
      "Epoch 89: Train Loss = 0.0013, Val Loss = 0.0011, PSNR = 31.60, SSIM = 0.9069\n"
     ]
    },
    {
     "name": "stderr",
     "output_type": "stream",
     "text": [
      "Epoch 90: 100%|██████████| 400/400 [01:54<00:00,  3.49it/s]\n"
     ]
    },
    {
     "name": "stdout",
     "output_type": "stream",
     "text": [
      "[GPU] Memory allocated: 241.28 MB | reserved: 354.42 MB\n",
      "Epoch 90: Train Loss = 0.0013, Val Loss = 0.0011, PSNR = 31.77, SSIM = 0.9079\n"
     ]
    },
    {
     "name": "stderr",
     "output_type": "stream",
     "text": [
      "Epoch 91: 100%|██████████| 400/400 [01:54<00:00,  3.49it/s]\n"
     ]
    },
    {
     "name": "stdout",
     "output_type": "stream",
     "text": [
      "[GPU] Memory allocated: 241.28 MB | reserved: 354.42 MB\n",
      "Epoch 91: Train Loss = 0.0013, Val Loss = 0.0011, PSNR = 31.66, SSIM = 0.9070\n"
     ]
    },
    {
     "name": "stderr",
     "output_type": "stream",
     "text": [
      "Epoch 92: 100%|██████████| 400/400 [01:54<00:00,  3.49it/s]\n"
     ]
    },
    {
     "name": "stdout",
     "output_type": "stream",
     "text": [
      "[GPU] Memory allocated: 241.28 MB | reserved: 354.42 MB\n",
      "Epoch 92: Train Loss = 0.0013, Val Loss = 0.0011, PSNR = 31.66, SSIM = 0.9073\n"
     ]
    },
    {
     "name": "stderr",
     "output_type": "stream",
     "text": [
      "Epoch 93: 100%|██████████| 400/400 [01:54<00:00,  3.48it/s]\n"
     ]
    },
    {
     "name": "stdout",
     "output_type": "stream",
     "text": [
      "[GPU] Memory allocated: 241.28 MB | reserved: 354.42 MB\n",
      "Epoch 93: Train Loss = 0.0013, Val Loss = 0.0011, PSNR = 31.73, SSIM = 0.9075\n"
     ]
    },
    {
     "name": "stderr",
     "output_type": "stream",
     "text": [
      "Epoch 94: 100%|██████████| 400/400 [01:54<00:00,  3.49it/s]\n"
     ]
    },
    {
     "name": "stdout",
     "output_type": "stream",
     "text": [
      "[GPU] Memory allocated: 241.28 MB | reserved: 354.42 MB\n",
      "Epoch 94: Train Loss = 0.0013, Val Loss = 0.0011, PSNR = 31.76, SSIM = 0.9074\n"
     ]
    },
    {
     "name": "stderr",
     "output_type": "stream",
     "text": [
      "Epoch 95: 100%|██████████| 400/400 [01:54<00:00,  3.49it/s]\n"
     ]
    },
    {
     "name": "stdout",
     "output_type": "stream",
     "text": [
      "[GPU] Memory allocated: 241.28 MB | reserved: 354.42 MB\n",
      "Epoch 95: Train Loss = 0.0013, Val Loss = 0.0012, PSNR = 31.22, SSIM = 0.9042\n"
     ]
    },
    {
     "name": "stderr",
     "output_type": "stream",
     "text": [
      "Epoch 96: 100%|██████████| 400/400 [01:54<00:00,  3.49it/s]\n"
     ]
    },
    {
     "name": "stdout",
     "output_type": "stream",
     "text": [
      "[GPU] Memory allocated: 241.28 MB | reserved: 354.42 MB\n",
      "Epoch 96: Train Loss = 0.0013, Val Loss = 0.0011, PSNR = 31.67, SSIM = 0.9072\n"
     ]
    },
    {
     "name": "stderr",
     "output_type": "stream",
     "text": [
      "Epoch 97: 100%|██████████| 400/400 [01:54<00:00,  3.48it/s]\n"
     ]
    },
    {
     "name": "stdout",
     "output_type": "stream",
     "text": [
      "[GPU] Memory allocated: 241.28 MB | reserved: 354.42 MB\n",
      "Epoch 97: Train Loss = 0.0013, Val Loss = 0.0011, PSNR = 31.73, SSIM = 0.9079\n"
     ]
    },
    {
     "name": "stderr",
     "output_type": "stream",
     "text": [
      "Epoch 98: 100%|██████████| 400/400 [01:54<00:00,  3.49it/s]\n"
     ]
    },
    {
     "name": "stdout",
     "output_type": "stream",
     "text": [
      "[GPU] Memory allocated: 241.28 MB | reserved: 354.42 MB\n",
      "Epoch 98: Train Loss = 0.0013, Val Loss = 0.0011, PSNR = 31.54, SSIM = 0.9069\n"
     ]
    },
    {
     "name": "stderr",
     "output_type": "stream",
     "text": [
      "Epoch 99: 100%|██████████| 400/400 [01:54<00:00,  3.49it/s]\n"
     ]
    },
    {
     "name": "stdout",
     "output_type": "stream",
     "text": [
      "[GPU] Memory allocated: 241.28 MB | reserved: 354.42 MB\n",
      "Epoch 99: Train Loss = 0.0013, Val Loss = 0.0011, PSNR = 31.78, SSIM = 0.9083\n"
     ]
    },
    {
     "name": "stderr",
     "output_type": "stream",
     "text": [
      "Epoch 100: 100%|██████████| 400/400 [01:54<00:00,  3.49it/s]\n"
     ]
    },
    {
     "name": "stdout",
     "output_type": "stream",
     "text": [
      "[GPU] Memory allocated: 241.28 MB | reserved: 354.42 MB\n",
      "Epoch 100: Train Loss = 0.0013, Val Loss = 0.0011, PSNR = 31.77, SSIM = 0.9083\n"
     ]
    },
    {
     "data": {
      "image/png": "[encoded data removed]",
      "text/plain": [
       "<Figure size 1800x500 with 3 Axes>"
      ]
     },
     "metadata": {},
     "output_type": "display_data"
    },
    {
     "name": "stdout",
     "output_type": "stream",
     "text": [
      "Time taken to train is: 218.37 minutes\n"
     ]
    }
   ],
   "source": [
    "import time\n",
    "start_time = time.time()\n",
    "trainedModel = train(model, train_loader, val_loader, epochs=100, lr=1e-4, log_dir=\"/kaggle/working/runs/RestormerTinyHT\")\n",
    "end_time = time.time()\n",
    "\n",
    "print(f\"Time taken to train is: {(end_time - start_time) / 60:.2f} minutes\")"
   ]
  },
  {
   "cell_type": "code",
   "execution_count": 19,
   "metadata": {
    "execution": {
     "iopub.execute_input": "2025-05-02T02:42:59.323342Z",
     "iopub.status.busy": "2025-05-02T02:42:59.323008Z",
     "iopub.status.idle": "2025-05-02T02:42:59.335058Z",
     "shell.execute_reply": "2025-05-02T02:42:59.334424Z",
     "shell.execute_reply.started": "2025-05-02T02:42:59.323320Z"
    },
    "trusted": true
   },
   "outputs": [],
   "source": [
    "torch.save(trainedModel.state_dict(), \"restormerTinyAttention.pth\")"
   ]
  },
  {
   "cell_type": "markdown",
   "metadata": {},
   "source": [
    "# Inference"
   ]
  },
  {
   "cell_type": "code",
   "execution_count": 3,
   "metadata": {
    "trusted": true
   },
   "outputs": [],
   "source": [
    "# Original Restormer-Tiny components (adapted from official code and paper)\n",
    "import torch\n",
    "import torch.nn as nn\n",
    "import torch.nn.functional as F\n",
    "\n",
    "class LayerNorm2d(nn.Module):\n",
    "    def __init__(self, num_channels, eps=1e-6):\n",
    "        super().__init__()\n",
    "        self.weight = nn.Parameter(torch.ones(num_channels))\n",
    "        self.bias = nn.Parameter(torch.zeros(num_channels))\n",
    "        self.eps = eps\n",
    "\n",
    "    def forward(self, x):\n",
    "        mu = x.mean(1, keepdim=True)\n",
    "        sigma = ((x - mu) ** 2).mean(1, keepdim=True)\n",
    "        x = (x - mu) / torch.sqrt(sigma + self.eps)\n",
    "        return self.weight[:, None, None] * x + self.bias[:, None, None]\n",
    "\n",
    "class MDTA(nn.Module):\n",
    "    def __init__(self, dim, num_heads=4):\n",
    "        super().__init__()\n",
    "        self.num_heads = num_heads\n",
    "        self.temperature = nn.Parameter(torch.ones(num_heads, 1, 1))\n",
    "\n",
    "        self.qkv = nn.Conv2d(dim, dim * 3, kernel_size=1, bias=False)\n",
    "        self.qkv_dwconv = nn.Conv2d(dim * 3, dim * 3, kernel_size=3, stride=1, padding=1, groups=dim * 3, bias=False)\n",
    "        self.project_out = nn.Conv2d(dim, dim, kernel_size=1, bias=False)\n",
    "\n",
    "    def forward(self, x):\n",
    "        B, C, H, W = x.shape\n",
    "        qkv = self.qkv_dwconv(self.qkv(x))\n",
    "        q, k, v = qkv.chunk(3, dim=1)\n",
    "\n",
    "        q = q.reshape(B, self.num_heads, C // self.num_heads, H * W)\n",
    "        k = k.reshape(B, self.num_heads, C // self.num_heads, H * W)\n",
    "        v = v.reshape(B, self.num_heads, C // self.num_heads, H * W)\n",
    "\n",
    "        q = F.normalize(q, dim=2)\n",
    "        k = F.normalize(k, dim=2)\n",
    "\n",
    "        attn = (q @ k.transpose(-2, -1)) * self.temperature\n",
    "        attn = attn.softmax(dim=-1)\n",
    "\n",
    "        out = attn @ v\n",
    "        out = out.reshape(B, C, H, W)\n",
    "        out = self.project_out(out)\n",
    "        return out\n",
    "\n",
    "class GatedFFN(nn.Module):\n",
    "    def __init__(self, dim):\n",
    "        super().__init__()\n",
    "        hidden_dim = dim * 2\n",
    "        self.project_in = nn.Conv2d(dim, hidden_dim * 2, kernel_size=1, bias=False)\n",
    "        self.dwconv = nn.Conv2d(hidden_dim * 2, hidden_dim * 2, kernel_size=3, stride=1, padding=1, groups=hidden_dim * 2, bias=False)\n",
    "        self.project_out = nn.Conv2d(hidden_dim, dim, kernel_size=1, bias=False)\n",
    "\n",
    "    def forward(self, x):\n",
    "        x = self.project_in(x)\n",
    "        x = self.dwconv(x)\n",
    "        x1, x2 = x.chunk(2, dim=1)\n",
    "        x = F.gelu(x1) * x2\n",
    "        x = self.project_out(x)\n",
    "        return x\n",
    "\n",
    "class TransformerBlock(nn.Module):\n",
    "    def __init__(self, dim, num_heads):\n",
    "        super().__init__()\n",
    "        self.norm1 = LayerNorm2d(dim)\n",
    "        self.attn = MDTA(dim, num_heads)\n",
    "        self.norm2 = LayerNorm2d(dim)\n",
    "        self.ffn = GatedFFN(dim)\n",
    "\n",
    "    def forward(self, x):\n",
    "        x = x + self.attn(self.norm1(x))\n",
    "        x = x + self.ffn(self.norm2(x))\n",
    "        return x\n",
    "\n",
    "\n"
   ]
  },
  {
   "cell_type": "code",
   "execution_count": 4,
   "metadata": {},
   "outputs": [],
   "source": [
    "# ============ Restormer-Tiny ============\n",
    "class RestormerTiny(nn.Module):\n",
    "    def __init__(self, dim=32, num_blocks=4, scale=2, num_heads=2):\n",
    "        super().__init__()\n",
    "        self.shallow_feat = nn.Conv2d(3, dim, kernel_size=3, padding=1)\n",
    "        self.transformer_blocks = nn.Sequential(*[TransformerBlock(dim, num_heads) for _ in range(num_blocks)])\n",
    "        self.upsample = nn.Sequential(\n",
    "            nn.Conv2d(dim, dim * (scale ** 2), 3, 1, 1),\n",
    "            nn.PixelShuffle(scale),\n",
    "            nn.Conv2d(dim, 3, 3, 1, 1)\n",
    "        )\n",
    "\n",
    "    def forward(self, x):\n",
    "        x = self.shallow_feat(x)\n",
    "        x = self.transformer_blocks(x)\n",
    "        x = self.upsample(x)\n",
    "        return x\n",
    "\n"
   ]
  },
  {
   "cell_type": "code",
   "execution_count": 5,
   "metadata": {},
   "outputs": [],
   "source": [
    "class DIV2KDataset(Dataset):\n",
    "    def __init__(self, hr_dir, scale=2, transform=None):\n",
    "        super().__init__()\n",
    "        self.hr_images = [os.path.join(hr_dir, f) for f in os.listdir(hr_dir) if f.endswith(\".png\")]\n",
    "        self.scale = scale\n",
    "        self.transform = transform or transforms.ToTensor()\n",
    "\n",
    "    def __len__(self):\n",
    "        return len(self.hr_images)\n",
    "\n",
    "    def __getitem__(self, idx):\n",
    "        hr = Image.open(self.hr_images[idx]).convert(\"RGB\")\n",
    "        w, h = hr.size\n",
    "        hr = hr.crop((0, 0, w - w % self.scale, h - h % self.scale))\n",
    "        lr = hr.resize((w // self.scale, h // self.scale), Image.BICUBIC)\n",
    "        return self.transform(lr), self.transform(hr)"
   ]
  },
  {
   "cell_type": "code",
   "execution_count": 5,
   "metadata": {},
   "outputs": [
    {
     "data": {
      "text/plain": [
       "RestormerTiny(\n",
       "  (shallow_feat): Conv2d(3, 32, kernel_size=(3, 3), stride=(1, 1), padding=(1, 1))\n",
       "  (transformer_blocks): Sequential(\n",
       "    (0): TransformerBlock(\n",
       "      (norm1): LayerNorm2d()\n",
       "      (attn): MDTA(\n",
       "        (qkv): Conv2d(32, 96, kernel_size=(1, 1), stride=(1, 1), bias=False)\n",
       "        (qkv_dwconv): Conv2d(96, 96, kernel_size=(3, 3), stride=(1, 1), padding=(1, 1), groups=96, bias=False)\n",
       "        (project_out): Conv2d(32, 32, kernel_size=(1, 1), stride=(1, 1), bias=False)\n",
       "      )\n",
       "      (norm2): LayerNorm2d()\n",
       "      (ffn): GatedFFN(\n",
       "        (project_in): Conv2d(32, 128, kernel_size=(1, 1), stride=(1, 1), bias=False)\n",
       "        (dwconv): Conv2d(128, 128, kernel_size=(3, 3), stride=(1, 1), padding=(1, 1), groups=128, bias=False)\n",
       "        (project_out): Conv2d(64, 32, kernel_size=(1, 1), stride=(1, 1), bias=False)\n",
       "      )\n",
       "    )\n",
       "    (1): TransformerBlock(\n",
       "      (norm1): LayerNorm2d()\n",
       "      (attn): MDTA(\n",
       "        (qkv): Conv2d(32, 96, kernel_size=(1, 1), stride=(1, 1), bias=False)\n",
       "        (qkv_dwconv): Conv2d(96, 96, kernel_size=(3, 3), stride=(1, 1), padding=(1, 1), groups=96, bias=False)\n",
       "        (project_out): Conv2d(32, 32, kernel_size=(1, 1), stride=(1, 1), bias=False)\n",
       "      )\n",
       "      (norm2): LayerNorm2d()\n",
       "      (ffn): GatedFFN(\n",
       "        (project_in): Conv2d(32, 128, kernel_size=(1, 1), stride=(1, 1), bias=False)\n",
       "        (dwconv): Conv2d(128, 128, kernel_size=(3, 3), stride=(1, 1), padding=(1, 1), groups=128, bias=False)\n",
       "        (project_out): Conv2d(64, 32, kernel_size=(1, 1), stride=(1, 1), bias=False)\n",
       "      )\n",
       "    )\n",
       "    (2): TransformerBlock(\n",
       "      (norm1): LayerNorm2d()\n",
       "      (attn): MDTA(\n",
       "        (qkv): Conv2d(32, 96, kernel_size=(1, 1), stride=(1, 1), bias=False)\n",
       "        (qkv_dwconv): Conv2d(96, 96, kernel_size=(3, 3), stride=(1, 1), padding=(1, 1), groups=96, bias=False)\n",
       "        (project_out): Conv2d(32, 32, kernel_size=(1, 1), stride=(1, 1), bias=False)\n",
       "      )\n",
       "      (norm2): LayerNorm2d()\n",
       "      (ffn): GatedFFN(\n",
       "        (project_in): Conv2d(32, 128, kernel_size=(1, 1), stride=(1, 1), bias=False)\n",
       "        (dwconv): Conv2d(128, 128, kernel_size=(3, 3), stride=(1, 1), padding=(1, 1), groups=128, bias=False)\n",
       "        (project_out): Conv2d(64, 32, kernel_size=(1, 1), stride=(1, 1), bias=False)\n",
       "      )\n",
       "    )\n",
       "    (3): TransformerBlock(\n",
       "      (norm1): LayerNorm2d()\n",
       "      (attn): MDTA(\n",
       "        (qkv): Conv2d(32, 96, kernel_size=(1, 1), stride=(1, 1), bias=False)\n",
       "        (qkv_dwconv): Conv2d(96, 96, kernel_size=(3, 3), stride=(1, 1), padding=(1, 1), groups=96, bias=False)\n",
       "        (project_out): Conv2d(32, 32, kernel_size=(1, 1), stride=(1, 1), bias=False)\n",
       "      )\n",
       "      (norm2): LayerNorm2d()\n",
       "      (ffn): GatedFFN(\n",
       "        (project_in): Conv2d(32, 128, kernel_size=(1, 1), stride=(1, 1), bias=False)\n",
       "        (dwconv): Conv2d(128, 128, kernel_size=(3, 3), stride=(1, 1), padding=(1, 1), groups=128, bias=False)\n",
       "        (project_out): Conv2d(64, 32, kernel_size=(1, 1), stride=(1, 1), bias=False)\n",
       "      )\n",
       "    )\n",
       "  )\n",
       "  (upsample): Sequential(\n",
       "    (0): Conv2d(32, 128, kernel_size=(3, 3), stride=(1, 1), padding=(1, 1))\n",
       "    (1): PixelShuffle(upscale_factor=2)\n",
       "    (2): Conv2d(32, 3, kernel_size=(3, 3), stride=(1, 1), padding=(1, 1))\n",
       "  )\n",
       ")"
      ]
     },
     "execution_count": 5,
     "metadata": {},
     "output_type": "execute_result"
    }
   ],
   "source": [
    "model = RestormerTiny(dim=32, num_blocks=4, scale=2)\n",
    "model.load_state_dict(torch.load(\"restormerTinyAttention.pth\"))\n",
    "model.eval()\n"
   ]
  },
  {
   "cell_type": "code",
   "execution_count": 6,
   "metadata": {},
   "outputs": [],
   "source": [
    "transform = transforms.ToTensor()\n",
    "\n",
    "    # Load the full dataset (800 images assumed)\n",
    "full_dataset = DIV2KDataset(\"./comparison_images\", transform=transform, scale=2)\n",
    "\n",
    "    # Dataloaders\n",
    "val_loader = DataLoader(full_dataset, batch_size=1)"
   ]
  },
  {
   "cell_type": "code",
   "execution_count": 7,
   "metadata": {},
   "outputs": [
    {
     "name": "stdout",
     "output_type": "stream",
     "text": [
      "Example 1\n",
      "PSNR: 38.88 dB\n",
      "SSIM: 0.9688\n",
      "==============================\n",
      "Example 2\n",
      "PSNR: 38.90 dB\n",
      "SSIM: 0.9752\n",
      "==============================\n",
      "Example 3\n",
      "PSNR: 36.03 dB\n",
      "SSIM: 0.8396\n",
      "==============================\n",
      "Example 4\n",
      "PSNR: 39.36 dB\n",
      "SSIM: 0.9528\n",
      "==============================\n"
     ]
    }
   ],
   "source": [
    "import cv2\n",
    "import numpy as np\n",
    "import torch\n",
    "from torchvision import transforms\n",
    "from skimage.metrics import structural_similarity as ssim\n",
    "from skimage.metrics import peak_signal_noise_ratio as psnr\n",
    "\n",
    "device = torch.device(\"cuda\" if torch.cuda.is_available() else \"cpu\")\n",
    "model.to(device)\n",
    "\n",
    "def tensor_to_cv2_img(tensor_img):\n",
    "    img = tensor_img.permute(1, 2, 0).numpy()  # [H, W, C]\n",
    "    img = np.clip(img * 255.0, 0, 255).astype(np.uint8)\n",
    "    img = cv2.cvtColor(img, cv2.COLOR_RGB2BGR)\n",
    "    return img\n",
    "\n",
    "def tensor_to_gray_numpy(tensor_img):\n",
    "    img = tensor_img.permute(1, 2, 0).numpy()\n",
    "    img = np.clip(img, 0, 1)\n",
    "    img_gray = cv2.cvtColor((img * 255).astype(np.uint8), cv2.COLOR_RGB2GRAY)\n",
    "    return img_gray\n",
    "\n",
    "# Loop through the first 4 examples\n",
    "for idx, (lr_img, hr_img) in enumerate(val_loader):\n",
    "    if idx >= 4:\n",
    "        break\n",
    "\n",
    "    lr_img = lr_img.squeeze(0)\n",
    "    hr_img = hr_img.squeeze(0)\n",
    "\n",
    "    with torch.no_grad():\n",
    "        sr_img = model(lr_img.unsqueeze(0).to(device))\n",
    "    sr_img = sr_img.squeeze(0).cpu()\n",
    "\n",
    "    # Convert to OpenCV images\n",
    "    lr_img_cv2 = tensor_to_cv2_img(lr_img)\n",
    "    hr_img_cv2 = tensor_to_cv2_img(hr_img)\n",
    "    sr_img_cv2 = tensor_to_cv2_img(sr_img)\n",
    "\n",
    "    # Save the images\n",
    "    cv2.imwrite(f\"Restormer-TinyATTlr_img_{idx+1}.png\", lr_img_cv2)\n",
    "    cv2.imwrite(f\"Restormer-TinyATTsr_img_{idx+1}.png\", sr_img_cv2)\n",
    "    cv2.imwrite(f\"Restormer-TinyATThr_img_{idx+1}.png\", hr_img_cv2)\n",
    "\n",
    "    # Calculate metrics\n",
    "    hr_gray = tensor_to_gray_numpy(hr_img)\n",
    "    sr_gray = tensor_to_gray_numpy(sr_img)\n",
    "    psnr_value = psnr(hr_img_cv2, sr_img_cv2, data_range=255)\n",
    "    ssim_value = ssim(hr_gray, sr_gray, data_range=255)\n",
    "\n",
    "    print(f\"Example {idx+1}\")\n",
    "    print(f\"PSNR: {psnr_value:.2f} dB\")\n",
    "    print(f\"SSIM: {ssim_value:.4f}\")\n",
    "    print(\"=\" * 30)\n",
    "\n",
    "    # Show the images\n",
    "    cv2.imshow(f'LR {idx+1}', lr_img_cv2)\n",
    "    cv2.imshow(f'SR {idx+1}', sr_img_cv2)\n",
    "    cv2.imshow(f'HR {idx+1}', hr_img_cv2)\n",
    "\n",
    "    cv2.waitKey(0)\n",
    "    cv2.destroyAllWindows()\n"
   ]
  },
  {
   "cell_type": "markdown",
   "metadata": {},
   "source": [
    "#### These images are stored in for_comparison folder"
   ]
  }
 ],
 "metadata": {
  "kaggle": {
   "accelerator": "gpu",
   "dataSources": [
    {
     "databundleVersionId": 605161,
     "datasetId": 286056,
     "sourceId": 588358,
     "sourceType": "datasetVersion"
    }
   ],
   "dockerImageVersionId": 31012,
   "isGpuEnabled": true,
   "isInternetEnabled": false,
   "language": "python",
   "sourceType": "notebook"
  },
  "kernelspec": {
   "display_name": "Python 3",
   "language": "python",
   "name": "python3"
  },
  "language_info": {
   "codemirror_mode": {
    "name": "ipython",
    "version": 3
   },
   "file_extension": ".py",
   "mimetype": "text/x-python",
   "name": "python",
   "nbconvert_exporter": "python",
   "pygments_lexer": "ipython3",
   "version": "3.10.0"
  }
 },
 "nbformat": 4,
 "nbformat_minor": 4
}
