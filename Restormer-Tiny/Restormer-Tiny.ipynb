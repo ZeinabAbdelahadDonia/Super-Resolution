{
 "cells": [
  {
   "cell_type": "code",
   "execution_count": 4,
   "id": "8556bfe0",
   "metadata": {},
   "outputs": [],
   "source": [
    "# Restormer-Tiny Super-Resolution on DIV2K\n",
    "# Simplified version for 2x Super-Resolution, memory-efficient\n",
    "\n",
    "import os\n",
    "import torch\n",
    "import torch.nn as nn\n",
    "import torch.nn.functional as F\n",
    "from torch.utils.data import DataLoader, Dataset\n",
    "from torchvision import transforms\n",
    "from PIL import Image\n",
    "import matplotlib.pyplot as plt"
   ]
  },
  {
   "cell_type": "code",
   "execution_count": 2,
   "id": "76d23693",
   "metadata": {},
   "outputs": [],
   "source": [
    "# ============ Utility ============\n",
    "def window_partition(x, window_size):\n",
    "    B, C, H, W = x.shape\n",
    "    x = x.view(B, C, H // window_size, window_size, W // window_size, window_size)\n",
    "    windows = x.permute(0, 2, 4, 1, 3, 5).contiguous().view(-1, C, window_size, window_size)\n",
    "    return windows\n",
    "\n",
    "def window_reverse(windows, window_size, H, W):\n",
    "    B = int(windows.shape[0] / (H * W / window_size / window_size))\n",
    "    x = windows.view(B, H // window_size, W // window_size, -1, window_size, window_size)\n",
    "    x = x.permute(0, 3, 1, 4, 2, 5).contiguous().view(B, -1, H, W)\n",
    "    return x\n",
    "\n"
   ]
  },
  {
   "cell_type": "code",
   "execution_count": 3,
   "id": "9636e3c3",
   "metadata": {},
   "outputs": [],
   "source": [
    "# ============ Transformer Block with Local Attention ============\n",
    "class LayerNorm2d(nn.Module):\n",
    "    def __init__(self, dim, eps=1e-6):\n",
    "        super().__init__()\n",
    "        self.eps = eps\n",
    "        self.gamma = nn.Parameter(torch.ones(1, dim, 1, 1))\n",
    "        self.beta = nn.Parameter(torch.zeros(1, dim, 1, 1))\n",
    "\n",
    "    def forward(self, x):\n",
    "        mu = x.mean(1, keepdim=True)\n",
    "        var = x.var(1, keepdim=True, unbiased=False)\n",
    "        x = (x - mu) / torch.sqrt(var + self.eps)\n",
    "        return self.gamma * x + self.beta\n",
    "\n",
    "class MDTA(nn.Module):\n",
    "    def __init__(self, dim, num_heads=4, window_size=8):\n",
    "        super().__init__()\n",
    "        self.heads = num_heads\n",
    "        self.scale = (dim // num_heads) ** -0.5\n",
    "        self.qkv = nn.Conv2d(dim, dim * 3, 1)\n",
    "        self.proj = nn.Conv2d(dim, dim, 1)\n",
    "        self.window_size = window_size\n",
    "\n",
    "    def forward(self, x):\n",
    "        B, C, H, W = x.shape\n",
    "        pad_h = (self.window_size - H % self.window_size) % self.window_size\n",
    "        pad_w = (self.window_size - W % self.window_size) % self.window_size\n",
    "        x = F.pad(x, (0, pad_w, 0, pad_h))\n",
    "        _, _, H_pad, W_pad = x.shape\n",
    "\n",
    "        windows = window_partition(x, self.window_size)  # [num_windows*B, C, ws, ws]\n",
    "        qkv = self.qkv(windows).reshape(-1, 3, self.heads, C // self.heads, self.window_size * self.window_size)\n",
    "        q, k, v = qkv[:, 0], qkv[:, 1], qkv[:, 2]\n",
    "\n",
    "        attn = (q.transpose(-2, -1) @ k) * self.scale\n",
    "        attn = attn.softmax(dim=-1)\n",
    "        out = (attn @ v.transpose(-2, -1)).transpose(-2, -1)\n",
    "        out = out.reshape(-1, C, self.window_size, self.window_size)\n",
    "\n",
    "        x = window_reverse(out, self.window_size, H_pad, W_pad)\n",
    "        x = x[:, :, :H, :W]  # remove padding\n",
    "        return self.proj(x)\n",
    "\n",
    "class GatedFFN(nn.Module):\n",
    "    def __init__(self, dim):\n",
    "        super().__init__()\n",
    "        self.fc1 = nn.Conv2d(dim, dim * 2, 1)\n",
    "        self.dwconv = nn.Conv2d(dim * 2, dim * 2, 3, 1, 1, groups=dim * 2)\n",
    "        self.fc2 = nn.Conv2d(dim, dim, 1)\n",
    "\n",
    "    def forward(self, x):\n",
    "        x1 = self.fc1(x)\n",
    "        x1 = self.dwconv(x1)\n",
    "        x1_1, x1_2 = x1.chunk(2, dim=1)\n",
    "        x = x1_1 * torch.sigmoid(x1_2)\n",
    "        x = self.fc2(x)\n",
    "        return x\n",
    "\n",
    "class TransformerBlock(nn.Module):\n",
    "    def __init__(self, dim):\n",
    "        super().__init__()\n",
    "        self.norm1 = LayerNorm2d(dim)\n",
    "        self.attn = MDTA(dim)\n",
    "        self.norm2 = LayerNorm2d(dim)\n",
    "        self.ffn = GatedFFN(dim)\n",
    "\n",
    "    def forward(self, x):\n",
    "        x = x + self.attn(self.norm1(x))\n",
    "        x = x + self.ffn(self.norm2(x))\n",
    "        return x\n",
    "\n"
   ]
  },
  {
   "cell_type": "code",
   "execution_count": 4,
   "id": "a0f98cd9",
   "metadata": {},
   "outputs": [],
   "source": [
    "# ============ Restormer-Tiny ============\n",
    "class RestormerTiny(nn.Module):\n",
    "    def __init__(self, dim=32, num_blocks=4, scale=2):\n",
    "        super().__init__()\n",
    "        self.shallow_feat = nn.Conv2d(3, dim, kernel_size=3, padding=1)\n",
    "        self.transformer_blocks = nn.Sequential(*[TransformerBlock(dim) for _ in range(num_blocks)])\n",
    "        self.upsample = nn.Sequential(\n",
    "            nn.Conv2d(dim, dim * (scale ** 2), 3, 1, 1),\n",
    "            nn.PixelShuffle(scale),\n",
    "            nn.Conv2d(dim, 3, 3, 1, 1)\n",
    "        )\n",
    "\n",
    "    def forward(self, x):\n",
    "        x = self.shallow_feat(x)\n",
    "        x = self.transformer_blocks(x)\n",
    "        x = self.upsample(x)\n",
    "        return x\n",
    "\n"
   ]
  },
  {
   "cell_type": "code",
   "execution_count": 5,
   "id": "c39de054",
   "metadata": {},
   "outputs": [],
   "source": [
    "# ============ DIV2K Dataset ============\n",
    "class DIV2KDataset(Dataset):\n",
    "    def __init__(self, hr_dir, scale=2, transform=None):\n",
    "        super().__init__()\n",
    "        self.hr_images = [os.path.join(hr_dir, f) for f in os.listdir(hr_dir) if f.endswith(\".png\")]\n",
    "        self.scale = scale\n",
    "        self.transform = transform or transforms.ToTensor()\n",
    "\n",
    "    def __len__(self):\n",
    "        return len(self.hr_images)\n",
    "\n",
    "    def __getitem__(self, idx):\n",
    "        hr = Image.open(self.hr_images[idx]).convert(\"RGB\")\n",
    "        w, h = hr.size\n",
    "        hr = hr.crop((0, 0, w - w % self.scale, h - h % self.scale))\n",
    "        lr = hr.resize((w // self.scale, h // self.scale), Image.BICUBIC)\n",
    "        return self.transform(lr), self.transform(hr)\n",
    "\n"
   ]
  },
  {
   "cell_type": "code",
   "execution_count": null,
   "id": "967bd1bb",
   "metadata": {},
   "outputs": [],
   "source": [
    "# # ============ Training and Visualization ============\n",
    "# def train(model, dataloader, device):\n",
    "#     optimizer = torch.optim.Adam(model.parameters(), lr=1e-4)\n",
    "#     criterion = nn.MSELoss()\n",
    "#     model.train()\n",
    "#     for epoch in range(5):\n",
    "#         loss_total = 0\n",
    "#         for lr, hr in dataloader:\n",
    "#             lr, hr = lr.to(device), hr.to(device)\n",
    "#             sr = model(lr)\n",
    "#             loss = criterion(sr, hr)\n",
    "#             optimizer.zero_grad()\n",
    "#             loss.backward()\n",
    "#             optimizer.step()\n",
    "#             loss_total += loss.item()\n",
    "#         print(f\"Epoch {epoch + 1}, Loss: {loss_total / len(dataloader):.4f}\")\n",
    "\n"
   ]
  },
  {
   "cell_type": "code",
   "execution_count": 48,
   "id": "d2c93c94",
   "metadata": {},
   "outputs": [],
   "source": [
    "import torch\n",
    "import torch.nn as nn\n",
    "from tqdm import tqdm\n",
    "from torch.utils.tensorboard import SummaryWriter\n",
    "from torchvision.utils import make_grid\n",
    "import matplotlib.pyplot as plt\n",
    "from skimage.metrics import peak_signal_noise_ratio as compare_psnr\n",
    "from skimage.metrics import structural_similarity as compare_ssim\n",
    "import numpy as np\n",
    "from torchmetrics.functional import structural_similarity_index_measure as compute_ssim\n",
    "\n",
    "def psnr(target, output, data_range=1.0):\n",
    "    mse = np.mean((target - output) ** 2)\n",
    "    if mse == 0:\n",
    "        return 100\n",
    "    return 20 * np.log10(data_range / np.sqrt(mse))\n",
    "\n",
    "def evaluate(model, dataloader):\n",
    "    device = torch.device(\"cuda\" if torch.cuda.is_available() else \"cpu\")\n",
    "    model.eval()\n",
    "    psnr_scores = []\n",
    "    ssim_scores = []\n",
    "\n",
    "    with torch.no_grad():\n",
    "        for lr_img, hr_img in dataloader:\n",
    "            lr_img, hr_img = lr_img.to(device), hr_img.to(device)\n",
    "            sr_img = model(lr_img).clamp(0.0, 1.0)\n",
    "            \n",
    "            psnr_val = psnr(hr_img.squeeze().cpu().numpy(), sr_img.squeeze().cpu().numpy())\n",
    "            ssim_val = compute_ssim(sr_img, hr_img, data_range=1.0).item()\n",
    "            \n",
    "            psnr_scores.append(psnr_val)\n",
    "            ssim_scores.append(ssim_val)\n",
    "\n",
    "    return (\n",
    "        sum(psnr_scores) / len(psnr_scores),\n",
    "        sum(ssim_scores) / len(ssim_scores)\n",
    "    )\n",
    "\n",
    "\n",
    "def plot_learning_curve(epoch_losses, epoch_psnrs, epoch_ssims):\n",
    "    plt.figure(figsize=(18, 5))\n",
    "\n",
    "    # Plot loss\n",
    "    plt.subplot(1, 3, 1)\n",
    "    plt.plot(range(1, len(epoch_losses) + 1), epoch_losses, label='Training Loss', color='blue')\n",
    "    plt.xlabel('Epoch')\n",
    "    plt.ylabel('Loss')\n",
    "    plt.title('Training Loss Curve')\n",
    "    plt.legend()\n",
    "    plt.grid(True)\n",
    "\n",
    "    # Plot PSNR\n",
    "    plt.subplot(1, 3, 2)\n",
    "    plt.plot(range(1, len(epoch_psnrs) + 1), epoch_psnrs, label='Validation PSNR', color='green')\n",
    "    plt.xlabel('Epoch')\n",
    "    plt.ylabel('PSNR (dB)')\n",
    "    plt.title('Validation PSNR Curve')\n",
    "    plt.legend()\n",
    "    plt.grid(True)\n",
    "\n",
    "    # Plot SSIM\n",
    "    plt.subplot(1, 3, 3)\n",
    "    plt.plot(range(1, len(epoch_ssims) + 1), epoch_ssims, label='Validation SSIM', color='purple')\n",
    "    plt.xlabel('Epoch')\n",
    "    plt.ylabel('SSIM')\n",
    "    plt.title('Validation SSIM Curve')\n",
    "    plt.legend()\n",
    "    plt.grid(True)\n",
    "\n",
    "    plt.tight_layout()\n",
    "    plt.show()\n",
    "\n",
    "\n",
    "\n",
    "def train(model, train_dataloader, val_dataloader, epochs=2, lr=1e-4, log_dir=\"runs/restormerTry\"):\n",
    "    device = torch.device(\"cuda\" if torch.cuda.is_available() else \"cpu\")\n",
    "    model.to(device)\n",
    "\n",
    "    criterion = nn.MSELoss()\n",
    "    optimizer = torch.optim.Adam(model.parameters(), lr=lr)\n",
    "    writer = SummaryWriter(log_dir)\n",
    "\n",
    "    epoch_losses = []\n",
    "    epoch_psnrs = []\n",
    "    epoch_ssims = []\n",
    "\n",
    "    for epoch in range(epochs):\n",
    "        model.train()\n",
    "        running_loss = 0\n",
    "        for lr_img, hr_img in tqdm(train_dataloader, desc=f\"Epoch {epoch+1}\"):\n",
    "            lr_img, hr_img = lr_img.to(device), hr_img.to(device)\n",
    "\n",
    "            output = model(lr_img)\n",
    "            loss = criterion(output, hr_img)\n",
    "\n",
    "            optimizer.zero_grad()\n",
    "            loss.backward()\n",
    "            optimizer.step()\n",
    "\n",
    "            running_loss += loss.item()\n",
    "\n",
    "        avg_loss = running_loss / len(train_dataloader)\n",
    "        epoch_losses.append(avg_loss)\n",
    "        writer.add_scalar(\"Loss/Train\", avg_loss, epoch)\n",
    "\n",
    "        val_psnr, val_ssim = evaluate(model, val_dataloader)\n",
    "        epoch_psnrs.append(val_psnr)\n",
    "        epoch_ssims.append(val_ssim)\n",
    "        writer.add_scalar(\"PSNR/Val\", val_psnr, epoch)\n",
    "        writer.add_scalar(\"SSIM/Val\", val_ssim, epoch)\n",
    "\n",
    "        # log images (first batch only)\n",
    "        model.eval()\n",
    "        with torch.no_grad():\n",
    "            for lr_img, hr_img in val_dataloader:\n",
    "                lr_img = lr_img.to(device)\n",
    "                sr_img = model(lr_img).clamp(0.0, 1.0)\n",
    "                writer.add_images(\"Input/LR\", lr_img, epoch)\n",
    "                writer.add_images(\"Output/SR\", sr_img, epoch)\n",
    "                writer.add_images(\"Target/HR\", hr_img.to(device), epoch)\n",
    "                break\n",
    "\n",
    "        # Clear GPU cache after each epoch\n",
    "        torch.cuda.empty_cache()\n",
    "\n",
    "        # Optional: monitor memory usage\n",
    "        if torch.cuda.is_available():\n",
    "            allocated = torch.cuda.memory_allocated() / 1e6\n",
    "            reserved = torch.cuda.memory_reserved() / 1e6\n",
    "            print(f\"[GPU] Memory allocated: {allocated:.2f} MB | reserved: {reserved:.2f} MB\")\n",
    "\n",
    "        print(f\"Epoch {epoch+1}: Loss = {avg_loss:.4f}, PSNR = {val_psnr:.2f}, SSIM = {val_ssim:.4f}\")\n",
    "\n",
    "    writer.close()\n",
    "    plot_learning_curve(epoch_losses, epoch_psnrs, epoch_ssims)\n",
    "    return model\n"
   ]
  },
  {
   "cell_type": "code",
   "execution_count": 30,
   "id": "542f5da7",
   "metadata": {},
   "outputs": [],
   "source": [
    "import cv2\n",
    "import numpy as np\n",
    "import torchvision.transforms as transforms\n",
    "\n",
    "def visualize_cv2(model, dataloader, device):\n",
    "    model.eval()\n",
    "    lr, hr = next(iter(dataloader))\n",
    "    lr_tensor = lr.to(device)\n",
    "\n",
    "    with torch.no_grad():\n",
    "        sr = model(lr_tensor).cpu()\n",
    "\n",
    "    # Take one sample from the batch\n",
    "    for i in range(min(1, lr_tensor.size(0))):\n",
    "        sr_img = transforms.ToPILImage()(sr[i].clamp(0, 1))\n",
    "        hr_img = transforms.ToPILImage()(hr[i])\n",
    "        lr_img = transforms.ToPILImage()(lr[i])\n",
    "\n",
    "        # Convert PIL to NumPy (BGR for OpenCV)\n",
    "        sr_bgr = cv2.cvtColor(np.array(sr_img), cv2.COLOR_RGB2BGR)\n",
    "        hr_bgr = cv2.cvtColor(np.array(hr_img), cv2.COLOR_RGB2BGR)\n",
    "        lr_bgr = cv2.cvtColor(np.array(lr_img), cv2.COLOR_RGB2BGR)\n",
    "\n",
    "        # Optionally resize LR image to HR size for better viewing\n",
    "        lr_resized = cv2.resize(lr_bgr, (hr_bgr.shape[1], hr_bgr.shape[0]), interpolation=cv2.INTER_NEAREST)\n",
    "\n",
    "        # Show in separate windows\n",
    "        cv2.imshow('Low-Resolution', lr_resized)\n",
    "        cv2.imshow('Super-Resolved', sr_bgr)\n",
    "        cv2.imshow('High-Resolution', hr_bgr)\n",
    "\n",
    "        cv2.waitKey(0)\n",
    "        cv2.destroyAllWindows()\n",
    "\n",
    "\n"
   ]
  },
  {
   "cell_type": "code",
   "execution_count": 43,
   "id": "06f33eb3",
   "metadata": {},
   "outputs": [],
   "source": [
    "    # Transform to convert images to tensors\n",
    "transform = transforms.Compose([\n",
    "        transforms.ToTensor()\n",
    "])\n",
    "    # Load the full dataset (800 images assumed)\n",
    "train_dataset = DIV2KDataset(\"./DIV2K_train_HR_Cropped\", transform=transform, scale=2)\n",
    "val_dataset = DIV2KDataset(\"./DIV2K_valid_HR_Cropped\", transform=transform, scale=2)\n",
    "\n",
    "train_size = int(len(train_dataset))  # 800\n",
    "val_size = int(len(val_dataset))  # 100\n",
    "\n",
    "    # Dataloaders\n",
    "train_loader = DataLoader(train_dataset, batch_size=2, shuffle=True, num_workers=0)\n",
    "val_loader = DataLoader(val_dataset, batch_size=1)\n"
   ]
  },
  {
   "cell_type": "code",
   "execution_count": 44,
   "id": "9ba284f6",
   "metadata": {},
   "outputs": [],
   "source": [
    "device = torch.device(\"cuda\" if torch.cuda.is_available() else \"cpu\")\n",
    "model = RestormerTiny(dim=32, num_blocks=4, scale=2).to(device)"
   ]
  },
  {
   "cell_type": "code",
   "execution_count": 45,
   "id": "cb4633b1",
   "metadata": {},
   "outputs": [],
   "source": [
    "def check_memory_usage():\n",
    "    import torch\n",
    "    print(f\"Allocated VRAM: {torch.cuda.memory_allocated() / 1e9:.2f} GB\")\n",
    "    print(f\"Reserved VRAM:  {torch.cuda.memory_reserved() / 1e9:.2f} GB\")\n",
    "def clear_cpu_cache():\n",
    "    import torch\n",
    "    import gc\n",
    "# Delete all PyTorch objects\n",
    "    gc.collect()\n",
    "    torch.cuda.empty_cache()\n",
    "    torch.cuda.ipc_collect()\n",
    "\n",
    "def clear_gpu_cache():\n",
    "    import torch\n",
    "    torch.cuda.empty_cache()\n",
    "    torch.cuda.ipc_collect()\n"
   ]
  },
  {
   "cell_type": "code",
   "execution_count": 46,
   "id": "ed3048a7",
   "metadata": {},
   "outputs": [
    {
     "name": "stdout",
     "output_type": "stream",
     "text": [
      "Allocated VRAM: 0.25 GB\n",
      "Reserved VRAM:  0.83 GB\n",
      "Allocated VRAM: 0.25 GB\n",
      "Reserved VRAM:  0.83 GB\n"
     ]
    }
   ],
   "source": [
    "check_memory_usage()\n",
    "clear_cpu_cache()\n",
    "clear_gpu_cache()\n",
    "check_memory_usage()"
   ]
  },
  {
   "cell_type": "code",
   "execution_count": 50,
   "id": "e7e0165f",
   "metadata": {},
   "outputs": [
    {
     "name": "stderr",
     "output_type": "stream",
     "text": [
      "Epoch 1: 100%|██████████| 400/400 [02:06<00:00,  3.16it/s]\n"
     ]
    },
    {
     "name": "stdout",
     "output_type": "stream",
     "text": [
      "[GPU] Memory allocated: 297.57 MB | reserved: 828.38 MB\n",
      "Epoch 1: Loss = 0.0041, PSNR = 27.02, SSIM = 0.8041\n"
     ]
    },
    {
     "name": "stderr",
     "output_type": "stream",
     "text": [
      "Epoch 2: 100%|██████████| 400/400 [02:06<00:00,  3.17it/s]\n"
     ]
    },
    {
     "name": "stdout",
     "output_type": "stream",
     "text": [
      "[GPU] Memory allocated: 298.33 MB | reserved: 828.38 MB\n",
      "Epoch 2: Loss = 0.0026, PSNR = 28.42, SSIM = 0.8447\n"
     ]
    },
    {
     "name": "stderr",
     "output_type": "stream",
     "text": [
      "Epoch 3: 100%|██████████| 400/400 [02:06<00:00,  3.17it/s]\n"
     ]
    },
    {
     "name": "stdout",
     "output_type": "stream",
     "text": [
      "[GPU] Memory allocated: 298.31 MB | reserved: 828.38 MB\n",
      "Epoch 3: Loss = 0.0021, PSNR = 29.14, SSIM = 0.8620\n"
     ]
    },
    {
     "name": "stderr",
     "output_type": "stream",
     "text": [
      "Epoch 4: 100%|██████████| 400/400 [02:06<00:00,  3.17it/s]\n"
     ]
    },
    {
     "name": "stdout",
     "output_type": "stream",
     "text": [
      "[GPU] Memory allocated: 298.33 MB | reserved: 828.38 MB\n",
      "Epoch 4: Loss = 0.0019, PSNR = 29.47, SSIM = 0.8712\n"
     ]
    },
    {
     "name": "stderr",
     "output_type": "stream",
     "text": [
      "Epoch 5: 100%|██████████| 400/400 [02:06<00:00,  3.17it/s]\n"
     ]
    },
    {
     "name": "stdout",
     "output_type": "stream",
     "text": [
      "[GPU] Memory allocated: 298.31 MB | reserved: 828.38 MB\n",
      "Epoch 5: Loss = 0.0019, PSNR = 29.80, SSIM = 0.8763\n"
     ]
    },
    {
     "name": "stderr",
     "output_type": "stream",
     "text": [
      "Epoch 6: 100%|██████████| 400/400 [02:06<00:00,  3.17it/s]\n"
     ]
    },
    {
     "name": "stdout",
     "output_type": "stream",
     "text": [
      "[GPU] Memory allocated: 298.33 MB | reserved: 828.38 MB\n",
      "Epoch 6: Loss = 0.0017, PSNR = 29.89, SSIM = 0.8782\n"
     ]
    },
    {
     "name": "stderr",
     "output_type": "stream",
     "text": [
      "Epoch 7: 100%|██████████| 400/400 [02:06<00:00,  3.17it/s]\n"
     ]
    },
    {
     "name": "stdout",
     "output_type": "stream",
     "text": [
      "[GPU] Memory allocated: 298.31 MB | reserved: 828.38 MB\n",
      "Epoch 7: Loss = 0.0017, PSNR = 30.16, SSIM = 0.8837\n"
     ]
    },
    {
     "name": "stderr",
     "output_type": "stream",
     "text": [
      "Epoch 8: 100%|██████████| 400/400 [02:06<00:00,  3.16it/s]\n"
     ]
    },
    {
     "name": "stdout",
     "output_type": "stream",
     "text": [
      "[GPU] Memory allocated: 298.33 MB | reserved: 828.38 MB\n",
      "Epoch 8: Loss = 0.0017, PSNR = 30.30, SSIM = 0.8856\n"
     ]
    },
    {
     "name": "stderr",
     "output_type": "stream",
     "text": [
      "Epoch 9: 100%|██████████| 400/400 [02:06<00:00,  3.16it/s]\n"
     ]
    },
    {
     "name": "stdout",
     "output_type": "stream",
     "text": [
      "[GPU] Memory allocated: 298.31 MB | reserved: 828.38 MB\n",
      "Epoch 9: Loss = 0.0017, PSNR = 30.37, SSIM = 0.8880\n"
     ]
    },
    {
     "name": "stderr",
     "output_type": "stream",
     "text": [
      "Epoch 10: 100%|██████████| 400/400 [02:06<00:00,  3.16it/s]\n"
     ]
    },
    {
     "name": "stdout",
     "output_type": "stream",
     "text": [
      "[GPU] Memory allocated: 298.33 MB | reserved: 828.38 MB\n",
      "Epoch 10: Loss = 0.0016, PSNR = 30.46, SSIM = 0.8889\n"
     ]
    },
    {
     "name": "stderr",
     "output_type": "stream",
     "text": [
      "Epoch 11: 100%|██████████| 400/400 [02:06<00:00,  3.16it/s]\n"
     ]
    },
    {
     "name": "stdout",
     "output_type": "stream",
     "text": [
      "[GPU] Memory allocated: 298.31 MB | reserved: 828.38 MB\n",
      "Epoch 11: Loss = 0.0016, PSNR = 30.49, SSIM = 0.8899\n"
     ]
    },
    {
     "name": "stderr",
     "output_type": "stream",
     "text": [
      "Epoch 12: 100%|██████████| 400/400 [02:06<00:00,  3.16it/s]\n"
     ]
    },
    {
     "name": "stdout",
     "output_type": "stream",
     "text": [
      "[GPU] Memory allocated: 298.33 MB | reserved: 828.38 MB\n",
      "Epoch 12: Loss = 0.0016, PSNR = 30.37, SSIM = 0.8911\n"
     ]
    },
    {
     "name": "stderr",
     "output_type": "stream",
     "text": [
      "Epoch 13: 100%|██████████| 400/400 [02:06<00:00,  3.16it/s]\n"
     ]
    },
    {
     "name": "stdout",
     "output_type": "stream",
     "text": [
      "[GPU] Memory allocated: 298.31 MB | reserved: 828.38 MB\n",
      "Epoch 13: Loss = 0.0016, PSNR = 30.62, SSIM = 0.8908\n"
     ]
    },
    {
     "name": "stderr",
     "output_type": "stream",
     "text": [
      "Epoch 14: 100%|██████████| 400/400 [02:06<00:00,  3.17it/s]\n"
     ]
    },
    {
     "name": "stdout",
     "output_type": "stream",
     "text": [
      "[GPU] Memory allocated: 298.33 MB | reserved: 828.38 MB\n",
      "Epoch 14: Loss = 0.0016, PSNR = 30.39, SSIM = 0.8926\n"
     ]
    },
    {
     "name": "stderr",
     "output_type": "stream",
     "text": [
      "Epoch 15: 100%|██████████| 400/400 [02:06<00:00,  3.16it/s]\n"
     ]
    },
    {
     "name": "stdout",
     "output_type": "stream",
     "text": [
      "[GPU] Memory allocated: 298.31 MB | reserved: 828.38 MB\n",
      "Epoch 15: Loss = 0.0016, PSNR = 30.41, SSIM = 0.8870\n"
     ]
    },
    {
     "name": "stderr",
     "output_type": "stream",
     "text": [
      "Epoch 16: 100%|██████████| 400/400 [02:06<00:00,  3.16it/s]\n"
     ]
    },
    {
     "name": "stdout",
     "output_type": "stream",
     "text": [
      "[GPU] Memory allocated: 298.33 MB | reserved: 828.38 MB\n",
      "Epoch 16: Loss = 0.0016, PSNR = 30.66, SSIM = 0.8940\n"
     ]
    },
    {
     "name": "stderr",
     "output_type": "stream",
     "text": [
      "Epoch 17: 100%|██████████| 400/400 [02:06<00:00,  3.16it/s]\n"
     ]
    },
    {
     "name": "stdout",
     "output_type": "stream",
     "text": [
      "[GPU] Memory allocated: 298.31 MB | reserved: 828.38 MB\n",
      "Epoch 17: Loss = 0.0016, PSNR = 30.17, SSIM = 0.8898\n"
     ]
    },
    {
     "name": "stderr",
     "output_type": "stream",
     "text": [
      "Epoch 18: 100%|██████████| 400/400 [02:06<00:00,  3.16it/s]\n"
     ]
    },
    {
     "name": "stdout",
     "output_type": "stream",
     "text": [
      "[GPU] Memory allocated: 298.33 MB | reserved: 828.38 MB\n",
      "Epoch 18: Loss = 0.0016, PSNR = 30.80, SSIM = 0.8948\n"
     ]
    },
    {
     "name": "stderr",
     "output_type": "stream",
     "text": [
      "Epoch 19: 100%|██████████| 400/400 [02:06<00:00,  3.17it/s]\n"
     ]
    },
    {
     "name": "stdout",
     "output_type": "stream",
     "text": [
      "[GPU] Memory allocated: 298.31 MB | reserved: 828.38 MB\n",
      "Epoch 19: Loss = 0.0015, PSNR = 30.81, SSIM = 0.8954\n"
     ]
    },
    {
     "name": "stderr",
     "output_type": "stream",
     "text": [
      "Epoch 20: 100%|██████████| 400/400 [02:06<00:00,  3.16it/s]\n"
     ]
    },
    {
     "name": "stdout",
     "output_type": "stream",
     "text": [
      "[GPU] Memory allocated: 298.33 MB | reserved: 828.38 MB\n",
      "Epoch 20: Loss = 0.0015, PSNR = 30.73, SSIM = 0.8950\n"
     ]
    },
    {
     "name": "stderr",
     "output_type": "stream",
     "text": [
      "Epoch 21: 100%|██████████| 400/400 [02:06<00:00,  3.17it/s]\n"
     ]
    },
    {
     "name": "stdout",
     "output_type": "stream",
     "text": [
      "[GPU] Memory allocated: 298.31 MB | reserved: 828.38 MB\n",
      "Epoch 21: Loss = 0.0015, PSNR = 30.74, SSIM = 0.8936\n"
     ]
    },
    {
     "name": "stderr",
     "output_type": "stream",
     "text": [
      "Epoch 22: 100%|██████████| 400/400 [02:06<00:00,  3.17it/s]\n"
     ]
    },
    {
     "name": "stdout",
     "output_type": "stream",
     "text": [
      "[GPU] Memory allocated: 298.33 MB | reserved: 828.38 MB\n",
      "Epoch 22: Loss = 0.0016, PSNR = 30.50, SSIM = 0.8902\n"
     ]
    },
    {
     "name": "stderr",
     "output_type": "stream",
     "text": [
      "Epoch 23: 100%|██████████| 400/400 [02:06<00:00,  3.16it/s]\n"
     ]
    },
    {
     "name": "stdout",
     "output_type": "stream",
     "text": [
      "[GPU] Memory allocated: 298.31 MB | reserved: 828.38 MB\n",
      "Epoch 23: Loss = 0.0015, PSNR = 30.86, SSIM = 0.8967\n"
     ]
    },
    {
     "name": "stderr",
     "output_type": "stream",
     "text": [
      "Epoch 24: 100%|██████████| 400/400 [02:06<00:00,  3.16it/s]\n"
     ]
    },
    {
     "name": "stdout",
     "output_type": "stream",
     "text": [
      "[GPU] Memory allocated: 298.33 MB | reserved: 828.38 MB\n",
      "Epoch 24: Loss = 0.0015, PSNR = 30.87, SSIM = 0.8966\n"
     ]
    },
    {
     "name": "stderr",
     "output_type": "stream",
     "text": [
      "Epoch 25: 100%|██████████| 400/400 [02:06<00:00,  3.16it/s]\n"
     ]
    },
    {
     "name": "stdout",
     "output_type": "stream",
     "text": [
      "[GPU] Memory allocated: 298.31 MB | reserved: 828.38 MB\n",
      "Epoch 25: Loss = 0.0015, PSNR = 30.70, SSIM = 0.8962\n"
     ]
    },
    {
     "name": "stderr",
     "output_type": "stream",
     "text": [
      "Epoch 26: 100%|██████████| 400/400 [02:06<00:00,  3.16it/s]\n"
     ]
    },
    {
     "name": "stdout",
     "output_type": "stream",
     "text": [
      "[GPU] Memory allocated: 298.33 MB | reserved: 828.38 MB\n",
      "Epoch 26: Loss = 0.0015, PSNR = 30.91, SSIM = 0.8974\n"
     ]
    },
    {
     "name": "stderr",
     "output_type": "stream",
     "text": [
      "Epoch 27: 100%|██████████| 400/400 [02:06<00:00,  3.16it/s]\n"
     ]
    },
    {
     "name": "stdout",
     "output_type": "stream",
     "text": [
      "[GPU] Memory allocated: 298.31 MB | reserved: 828.38 MB\n",
      "Epoch 27: Loss = 0.0015, PSNR = 30.87, SSIM = 0.8975\n"
     ]
    },
    {
     "name": "stderr",
     "output_type": "stream",
     "text": [
      "Epoch 28: 100%|██████████| 400/400 [02:06<00:00,  3.16it/s]\n"
     ]
    },
    {
     "name": "stdout",
     "output_type": "stream",
     "text": [
      "[GPU] Memory allocated: 298.33 MB | reserved: 828.38 MB\n",
      "Epoch 28: Loss = 0.0015, PSNR = 30.87, SSIM = 0.8979\n"
     ]
    },
    {
     "name": "stderr",
     "output_type": "stream",
     "text": [
      "Epoch 29: 100%|██████████| 400/400 [02:06<00:00,  3.16it/s]\n"
     ]
    },
    {
     "name": "stdout",
     "output_type": "stream",
     "text": [
      "[GPU] Memory allocated: 298.31 MB | reserved: 828.38 MB\n",
      "Epoch 29: Loss = 0.0015, PSNR = 30.78, SSIM = 0.8981\n"
     ]
    },
    {
     "name": "stderr",
     "output_type": "stream",
     "text": [
      "Epoch 30: 100%|██████████| 400/400 [02:06<00:00,  3.16it/s]\n"
     ]
    },
    {
     "name": "stdout",
     "output_type": "stream",
     "text": [
      "[GPU] Memory allocated: 298.33 MB | reserved: 828.38 MB\n",
      "Epoch 30: Loss = 0.0015, PSNR = 30.80, SSIM = 0.8979\n"
     ]
    },
    {
     "name": "stderr",
     "output_type": "stream",
     "text": [
      "Epoch 31: 100%|██████████| 400/400 [02:06<00:00,  3.16it/s]\n"
     ]
    },
    {
     "name": "stdout",
     "output_type": "stream",
     "text": [
      "[GPU] Memory allocated: 298.31 MB | reserved: 828.38 MB\n",
      "Epoch 31: Loss = 0.0015, PSNR = 30.80, SSIM = 0.8960\n"
     ]
    },
    {
     "name": "stderr",
     "output_type": "stream",
     "text": [
      "Epoch 32: 100%|██████████| 400/400 [02:06<00:00,  3.16it/s]\n"
     ]
    },
    {
     "name": "stdout",
     "output_type": "stream",
     "text": [
      "[GPU] Memory allocated: 298.33 MB | reserved: 828.38 MB\n",
      "Epoch 32: Loss = 0.0015, PSNR = 30.98, SSIM = 0.8986\n"
     ]
    },
    {
     "name": "stderr",
     "output_type": "stream",
     "text": [
      "Epoch 33: 100%|██████████| 400/400 [02:06<00:00,  3.16it/s]\n"
     ]
    },
    {
     "name": "stdout",
     "output_type": "stream",
     "text": [
      "[GPU] Memory allocated: 298.31 MB | reserved: 828.38 MB\n",
      "Epoch 33: Loss = 0.0015, PSNR = 30.96, SSIM = 0.8986\n"
     ]
    },
    {
     "name": "stderr",
     "output_type": "stream",
     "text": [
      "Epoch 34: 100%|██████████| 400/400 [02:06<00:00,  3.17it/s]\n"
     ]
    },
    {
     "name": "stdout",
     "output_type": "stream",
     "text": [
      "[GPU] Memory allocated: 298.33 MB | reserved: 828.38 MB\n",
      "Epoch 34: Loss = 0.0015, PSNR = 30.89, SSIM = 0.8982\n"
     ]
    },
    {
     "name": "stderr",
     "output_type": "stream",
     "text": [
      "Epoch 35: 100%|██████████| 400/400 [02:06<00:00,  3.16it/s]\n"
     ]
    },
    {
     "name": "stdout",
     "output_type": "stream",
     "text": [
      "[GPU] Memory allocated: 298.31 MB | reserved: 828.38 MB\n",
      "Epoch 35: Loss = 0.0015, PSNR = 31.00, SSIM = 0.8991\n"
     ]
    },
    {
     "name": "stderr",
     "output_type": "stream",
     "text": [
      "Epoch 36: 100%|██████████| 400/400 [02:06<00:00,  3.17it/s]\n"
     ]
    },
    {
     "name": "stdout",
     "output_type": "stream",
     "text": [
      "[GPU] Memory allocated: 298.33 MB | reserved: 828.38 MB\n",
      "Epoch 36: Loss = 0.0015, PSNR = 31.00, SSIM = 0.8991\n"
     ]
    },
    {
     "name": "stderr",
     "output_type": "stream",
     "text": [
      "Epoch 37: 100%|██████████| 400/400 [02:06<00:00,  3.16it/s]\n"
     ]
    },
    {
     "name": "stdout",
     "output_type": "stream",
     "text": [
      "[GPU] Memory allocated: 298.31 MB | reserved: 828.38 MB\n",
      "Epoch 37: Loss = 0.0015, PSNR = 30.99, SSIM = 0.8989\n"
     ]
    },
    {
     "name": "stderr",
     "output_type": "stream",
     "text": [
      "Epoch 38: 100%|██████████| 400/400 [02:06<00:00,  3.16it/s]\n"
     ]
    },
    {
     "name": "stdout",
     "output_type": "stream",
     "text": [
      "[GPU] Memory allocated: 298.33 MB | reserved: 828.38 MB\n",
      "Epoch 38: Loss = 0.0015, PSNR = 30.18, SSIM = 0.8968\n"
     ]
    },
    {
     "name": "stderr",
     "output_type": "stream",
     "text": [
      "Epoch 39: 100%|██████████| 400/400 [02:06<00:00,  3.16it/s]\n"
     ]
    },
    {
     "name": "stdout",
     "output_type": "stream",
     "text": [
      "[GPU] Memory allocated: 298.31 MB | reserved: 828.38 MB\n",
      "Epoch 39: Loss = 0.0015, PSNR = 30.95, SSIM = 0.8987\n"
     ]
    },
    {
     "name": "stderr",
     "output_type": "stream",
     "text": [
      "Epoch 40: 100%|██████████| 400/400 [02:06<00:00,  3.16it/s]\n"
     ]
    },
    {
     "name": "stdout",
     "output_type": "stream",
     "text": [
      "[GPU] Memory allocated: 298.33 MB | reserved: 828.38 MB\n",
      "Epoch 40: Loss = 0.0015, PSNR = 31.00, SSIM = 0.8995\n"
     ]
    },
    {
     "name": "stderr",
     "output_type": "stream",
     "text": [
      "Epoch 41: 100%|██████████| 400/400 [02:06<00:00,  3.17it/s]\n"
     ]
    },
    {
     "name": "stdout",
     "output_type": "stream",
     "text": [
      "[GPU] Memory allocated: 298.31 MB | reserved: 828.38 MB\n",
      "Epoch 41: Loss = 0.0015, PSNR = 30.48, SSIM = 0.8943\n"
     ]
    },
    {
     "name": "stderr",
     "output_type": "stream",
     "text": [
      "Epoch 42: 100%|██████████| 400/400 [02:06<00:00,  3.16it/s]\n"
     ]
    },
    {
     "name": "stdout",
     "output_type": "stream",
     "text": [
      "[GPU] Memory allocated: 298.33 MB | reserved: 828.38 MB\n",
      "Epoch 42: Loss = 0.0015, PSNR = 30.99, SSIM = 0.8992\n"
     ]
    },
    {
     "name": "stderr",
     "output_type": "stream",
     "text": [
      "Epoch 43: 100%|██████████| 400/400 [02:06<00:00,  3.16it/s]\n"
     ]
    },
    {
     "name": "stdout",
     "output_type": "stream",
     "text": [
      "[GPU] Memory allocated: 298.31 MB | reserved: 828.38 MB\n",
      "Epoch 43: Loss = 0.0015, PSNR = 31.03, SSIM = 0.8997\n"
     ]
    },
    {
     "name": "stderr",
     "output_type": "stream",
     "text": [
      "Epoch 44: 100%|██████████| 400/400 [02:06<00:00,  3.16it/s]\n"
     ]
    },
    {
     "name": "stdout",
     "output_type": "stream",
     "text": [
      "[GPU] Memory allocated: 298.33 MB | reserved: 828.38 MB\n",
      "Epoch 44: Loss = 0.0015, PSNR = 31.01, SSIM = 0.8997\n"
     ]
    },
    {
     "name": "stderr",
     "output_type": "stream",
     "text": [
      "Epoch 45: 100%|██████████| 400/400 [02:06<00:00,  3.17it/s]\n"
     ]
    },
    {
     "name": "stdout",
     "output_type": "stream",
     "text": [
      "[GPU] Memory allocated: 298.31 MB | reserved: 828.38 MB\n",
      "Epoch 45: Loss = 0.0015, PSNR = 30.92, SSIM = 0.8981\n"
     ]
    },
    {
     "name": "stderr",
     "output_type": "stream",
     "text": [
      "Epoch 46: 100%|██████████| 400/400 [02:06<00:00,  3.17it/s]\n"
     ]
    },
    {
     "name": "stdout",
     "output_type": "stream",
     "text": [
      "[GPU] Memory allocated: 298.33 MB | reserved: 828.38 MB\n",
      "Epoch 46: Loss = 0.0015, PSNR = 31.03, SSIM = 0.9000\n"
     ]
    },
    {
     "name": "stderr",
     "output_type": "stream",
     "text": [
      "Epoch 47: 100%|██████████| 400/400 [02:06<00:00,  3.16it/s]\n"
     ]
    },
    {
     "name": "stdout",
     "output_type": "stream",
     "text": [
      "[GPU] Memory allocated: 298.31 MB | reserved: 828.38 MB\n",
      "Epoch 47: Loss = 0.0015, PSNR = 30.97, SSIM = 0.9000\n"
     ]
    },
    {
     "name": "stderr",
     "output_type": "stream",
     "text": [
      "Epoch 48: 100%|██████████| 400/400 [02:06<00:00,  3.16it/s]\n"
     ]
    },
    {
     "name": "stdout",
     "output_type": "stream",
     "text": [
      "[GPU] Memory allocated: 298.33 MB | reserved: 828.38 MB\n",
      "Epoch 48: Loss = 0.0015, PSNR = 30.39, SSIM = 0.8960\n"
     ]
    },
    {
     "name": "stderr",
     "output_type": "stream",
     "text": [
      "Epoch 49: 100%|██████████| 400/400 [02:06<00:00,  3.16it/s]\n"
     ]
    },
    {
     "name": "stdout",
     "output_type": "stream",
     "text": [
      "[GPU] Memory allocated: 298.31 MB | reserved: 828.38 MB\n",
      "Epoch 49: Loss = 0.0015, PSNR = 31.00, SSIM = 0.8992\n"
     ]
    },
    {
     "name": "stderr",
     "output_type": "stream",
     "text": [
      "Epoch 50: 100%|██████████| 400/400 [02:06<00:00,  3.16it/s]\n"
     ]
    },
    {
     "name": "stdout",
     "output_type": "stream",
     "text": [
      "[GPU] Memory allocated: 298.33 MB | reserved: 828.38 MB\n",
      "Epoch 50: Loss = 0.0015, PSNR = 30.63, SSIM = 0.8993\n"
     ]
    },
    {
     "name": "stderr",
     "output_type": "stream",
     "text": [
      "Epoch 51: 100%|██████████| 400/400 [02:06<00:00,  3.16it/s]\n"
     ]
    },
    {
     "name": "stdout",
     "output_type": "stream",
     "text": [
      "[GPU] Memory allocated: 298.31 MB | reserved: 828.38 MB\n",
      "Epoch 51: Loss = 0.0015, PSNR = 31.06, SSIM = 0.9004\n"
     ]
    },
    {
     "name": "stderr",
     "output_type": "stream",
     "text": [
      "Epoch 52: 100%|██████████| 400/400 [02:06<00:00,  3.16it/s]\n"
     ]
    },
    {
     "name": "stdout",
     "output_type": "stream",
     "text": [
      "[GPU] Memory allocated: 298.33 MB | reserved: 828.38 MB\n",
      "Epoch 52: Loss = 0.0015, PSNR = 30.92, SSIM = 0.8990\n"
     ]
    },
    {
     "name": "stderr",
     "output_type": "stream",
     "text": [
      "Epoch 53: 100%|██████████| 400/400 [02:06<00:00,  3.16it/s]\n"
     ]
    },
    {
     "name": "stdout",
     "output_type": "stream",
     "text": [
      "[GPU] Memory allocated: 298.31 MB | reserved: 828.38 MB\n",
      "Epoch 53: Loss = 0.0015, PSNR = 31.05, SSIM = 0.8996\n"
     ]
    },
    {
     "name": "stderr",
     "output_type": "stream",
     "text": [
      "Epoch 54: 100%|██████████| 400/400 [02:06<00:00,  3.16it/s]\n"
     ]
    },
    {
     "name": "stdout",
     "output_type": "stream",
     "text": [
      "[GPU] Memory allocated: 298.33 MB | reserved: 828.38 MB\n",
      "Epoch 54: Loss = 0.0015, PSNR = 30.94, SSIM = 0.9007\n"
     ]
    },
    {
     "name": "stderr",
     "output_type": "stream",
     "text": [
      "Epoch 55: 100%|██████████| 400/400 [02:06<00:00,  3.16it/s]\n"
     ]
    },
    {
     "name": "stdout",
     "output_type": "stream",
     "text": [
      "[GPU] Memory allocated: 298.31 MB | reserved: 828.38 MB\n",
      "Epoch 55: Loss = 0.0015, PSNR = 31.09, SSIM = 0.9007\n"
     ]
    },
    {
     "name": "stderr",
     "output_type": "stream",
     "text": [
      "Epoch 56: 100%|██████████| 400/400 [02:06<00:00,  3.16it/s]\n"
     ]
    },
    {
     "name": "stdout",
     "output_type": "stream",
     "text": [
      "[GPU] Memory allocated: 298.33 MB | reserved: 828.38 MB\n",
      "Epoch 56: Loss = 0.0015, PSNR = 30.97, SSIM = 0.9001\n"
     ]
    },
    {
     "name": "stderr",
     "output_type": "stream",
     "text": [
      "Epoch 57: 100%|██████████| 400/400 [02:06<00:00,  3.16it/s]\n"
     ]
    },
    {
     "name": "stdout",
     "output_type": "stream",
     "text": [
      "[GPU] Memory allocated: 298.31 MB | reserved: 828.38 MB\n",
      "Epoch 57: Loss = 0.0015, PSNR = 31.10, SSIM = 0.9007\n"
     ]
    },
    {
     "name": "stderr",
     "output_type": "stream",
     "text": [
      "Epoch 58: 100%|██████████| 400/400 [02:06<00:00,  3.16it/s]\n"
     ]
    },
    {
     "name": "stdout",
     "output_type": "stream",
     "text": [
      "[GPU] Memory allocated: 298.33 MB | reserved: 828.38 MB\n",
      "Epoch 58: Loss = 0.0015, PSNR = 31.04, SSIM = 0.8996\n"
     ]
    },
    {
     "name": "stderr",
     "output_type": "stream",
     "text": [
      "Epoch 59: 100%|██████████| 400/400 [02:06<00:00,  3.17it/s]\n"
     ]
    },
    {
     "name": "stdout",
     "output_type": "stream",
     "text": [
      "[GPU] Memory allocated: 298.31 MB | reserved: 828.38 MB\n",
      "Epoch 59: Loss = 0.0015, PSNR = 31.12, SSIM = 0.9009\n"
     ]
    },
    {
     "name": "stderr",
     "output_type": "stream",
     "text": [
      "Epoch 60: 100%|██████████| 400/400 [02:06<00:00,  3.17it/s]\n"
     ]
    },
    {
     "name": "stdout",
     "output_type": "stream",
     "text": [
      "[GPU] Memory allocated: 298.33 MB | reserved: 828.38 MB\n",
      "Epoch 60: Loss = 0.0015, PSNR = 30.98, SSIM = 0.9001\n"
     ]
    },
    {
     "name": "stderr",
     "output_type": "stream",
     "text": [
      "Epoch 61: 100%|██████████| 400/400 [02:06<00:00,  3.16it/s]\n"
     ]
    },
    {
     "name": "stdout",
     "output_type": "stream",
     "text": [
      "[GPU] Memory allocated: 298.31 MB | reserved: 828.38 MB\n",
      "Epoch 61: Loss = 0.0015, PSNR = 31.13, SSIM = 0.9012\n"
     ]
    },
    {
     "name": "stderr",
     "output_type": "stream",
     "text": [
      "Epoch 62: 100%|██████████| 400/400 [02:06<00:00,  3.17it/s]\n"
     ]
    },
    {
     "name": "stdout",
     "output_type": "stream",
     "text": [
      "[GPU] Memory allocated: 298.33 MB | reserved: 828.38 MB\n",
      "Epoch 62: Loss = 0.0015, PSNR = 31.14, SSIM = 0.9012\n"
     ]
    },
    {
     "name": "stderr",
     "output_type": "stream",
     "text": [
      "Epoch 63: 100%|██████████| 400/400 [02:06<00:00,  3.16it/s]\n"
     ]
    },
    {
     "name": "stdout",
     "output_type": "stream",
     "text": [
      "[GPU] Memory allocated: 298.31 MB | reserved: 828.38 MB\n",
      "Epoch 63: Loss = 0.0015, PSNR = 31.15, SSIM = 0.9012\n"
     ]
    },
    {
     "name": "stderr",
     "output_type": "stream",
     "text": [
      "Epoch 64: 100%|██████████| 400/400 [02:06<00:00,  3.16it/s]\n"
     ]
    },
    {
     "name": "stdout",
     "output_type": "stream",
     "text": [
      "[GPU] Memory allocated: 298.33 MB | reserved: 828.38 MB\n",
      "Epoch 64: Loss = 0.0015, PSNR = 31.13, SSIM = 0.9012\n"
     ]
    },
    {
     "name": "stderr",
     "output_type": "stream",
     "text": [
      "Epoch 65: 100%|██████████| 400/400 [02:06<00:00,  3.16it/s]\n"
     ]
    },
    {
     "name": "stdout",
     "output_type": "stream",
     "text": [
      "[GPU] Memory allocated: 298.31 MB | reserved: 828.38 MB\n",
      "Epoch 65: Loss = 0.0015, PSNR = 31.15, SSIM = 0.9009\n"
     ]
    },
    {
     "name": "stderr",
     "output_type": "stream",
     "text": [
      "Epoch 66: 100%|██████████| 400/400 [02:06<00:00,  3.17it/s]\n"
     ]
    },
    {
     "name": "stdout",
     "output_type": "stream",
     "text": [
      "[GPU] Memory allocated: 298.33 MB | reserved: 828.38 MB\n",
      "Epoch 66: Loss = 0.0015, PSNR = 30.81, SSIM = 0.8993\n"
     ]
    },
    {
     "name": "stderr",
     "output_type": "stream",
     "text": [
      "Epoch 67: 100%|██████████| 400/400 [02:06<00:00,  3.17it/s]\n"
     ]
    },
    {
     "name": "stdout",
     "output_type": "stream",
     "text": [
      "[GPU] Memory allocated: 298.31 MB | reserved: 828.38 MB\n",
      "Epoch 67: Loss = 0.0015, PSNR = 31.17, SSIM = 0.9015\n"
     ]
    },
    {
     "name": "stderr",
     "output_type": "stream",
     "text": [
      "Epoch 68: 100%|██████████| 400/400 [02:06<00:00,  3.17it/s]\n"
     ]
    },
    {
     "name": "stdout",
     "output_type": "stream",
     "text": [
      "[GPU] Memory allocated: 298.33 MB | reserved: 828.38 MB\n",
      "Epoch 68: Loss = 0.0015, PSNR = 31.08, SSIM = 0.9014\n"
     ]
    },
    {
     "name": "stderr",
     "output_type": "stream",
     "text": [
      "Epoch 69: 100%|██████████| 400/400 [02:06<00:00,  3.17it/s]\n"
     ]
    },
    {
     "name": "stdout",
     "output_type": "stream",
     "text": [
      "[GPU] Memory allocated: 298.31 MB | reserved: 828.38 MB\n",
      "Epoch 69: Loss = 0.0015, PSNR = 31.18, SSIM = 0.9014\n"
     ]
    },
    {
     "name": "stderr",
     "output_type": "stream",
     "text": [
      "Epoch 70: 100%|██████████| 400/400 [02:06<00:00,  3.17it/s]\n"
     ]
    },
    {
     "name": "stdout",
     "output_type": "stream",
     "text": [
      "[GPU] Memory allocated: 298.33 MB | reserved: 828.38 MB\n",
      "Epoch 70: Loss = 0.0014, PSNR = 31.17, SSIM = 0.9018\n"
     ]
    },
    {
     "name": "stderr",
     "output_type": "stream",
     "text": [
      "Epoch 71: 100%|██████████| 400/400 [02:06<00:00,  3.16it/s]\n"
     ]
    },
    {
     "name": "stdout",
     "output_type": "stream",
     "text": [
      "[GPU] Memory allocated: 298.31 MB | reserved: 828.38 MB\n",
      "Epoch 71: Loss = 0.0014, PSNR = 31.17, SSIM = 0.9009\n"
     ]
    },
    {
     "name": "stderr",
     "output_type": "stream",
     "text": [
      "Epoch 72: 100%|██████████| 400/400 [02:06<00:00,  3.17it/s]\n"
     ]
    },
    {
     "name": "stdout",
     "output_type": "stream",
     "text": [
      "[GPU] Memory allocated: 298.33 MB | reserved: 828.38 MB\n",
      "Epoch 72: Loss = 0.0015, PSNR = 29.67, SSIM = 0.8989\n"
     ]
    },
    {
     "name": "stderr",
     "output_type": "stream",
     "text": [
      "Epoch 73: 100%|██████████| 400/400 [02:06<00:00,  3.16it/s]\n"
     ]
    },
    {
     "name": "stdout",
     "output_type": "stream",
     "text": [
      "[GPU] Memory allocated: 298.31 MB | reserved: 828.38 MB\n",
      "Epoch 73: Loss = 0.0015, PSNR = 31.21, SSIM = 0.9021\n"
     ]
    },
    {
     "name": "stderr",
     "output_type": "stream",
     "text": [
      "Epoch 74: 100%|██████████| 400/400 [02:06<00:00,  3.16it/s]\n"
     ]
    },
    {
     "name": "stdout",
     "output_type": "stream",
     "text": [
      "[GPU] Memory allocated: 298.33 MB | reserved: 828.38 MB\n",
      "Epoch 74: Loss = 0.0014, PSNR = 31.20, SSIM = 0.9018\n"
     ]
    },
    {
     "name": "stderr",
     "output_type": "stream",
     "text": [
      "Epoch 75: 100%|██████████| 400/400 [02:06<00:00,  3.16it/s]\n"
     ]
    },
    {
     "name": "stdout",
     "output_type": "stream",
     "text": [
      "[GPU] Memory allocated: 298.31 MB | reserved: 828.38 MB\n",
      "Epoch 75: Loss = 0.0015, PSNR = 31.22, SSIM = 0.9021\n"
     ]
    },
    {
     "name": "stderr",
     "output_type": "stream",
     "text": [
      "Epoch 76: 100%|██████████| 400/400 [02:06<00:00,  3.16it/s]\n"
     ]
    },
    {
     "name": "stdout",
     "output_type": "stream",
     "text": [
      "[GPU] Memory allocated: 298.33 MB | reserved: 828.38 MB\n",
      "Epoch 76: Loss = 0.0014, PSNR = 31.24, SSIM = 0.9022\n"
     ]
    },
    {
     "name": "stderr",
     "output_type": "stream",
     "text": [
      "Epoch 77: 100%|██████████| 400/400 [02:06<00:00,  3.16it/s]\n"
     ]
    },
    {
     "name": "stdout",
     "output_type": "stream",
     "text": [
      "[GPU] Memory allocated: 298.31 MB | reserved: 828.38 MB\n",
      "Epoch 77: Loss = 0.0014, PSNR = 31.20, SSIM = 0.9021\n"
     ]
    },
    {
     "name": "stderr",
     "output_type": "stream",
     "text": [
      "Epoch 78: 100%|██████████| 400/400 [02:06<00:00,  3.16it/s]\n"
     ]
    },
    {
     "name": "stdout",
     "output_type": "stream",
     "text": [
      "[GPU] Memory allocated: 298.33 MB | reserved: 828.38 MB\n",
      "Epoch 78: Loss = 0.0014, PSNR = 31.22, SSIM = 0.9010\n"
     ]
    },
    {
     "name": "stderr",
     "output_type": "stream",
     "text": [
      "Epoch 79: 100%|██████████| 400/400 [02:06<00:00,  3.16it/s]\n"
     ]
    },
    {
     "name": "stdout",
     "output_type": "stream",
     "text": [
      "[GPU] Memory allocated: 298.31 MB | reserved: 828.38 MB\n",
      "Epoch 79: Loss = 0.0014, PSNR = 31.20, SSIM = 0.9017\n"
     ]
    },
    {
     "name": "stderr",
     "output_type": "stream",
     "text": [
      "Epoch 80: 100%|██████████| 400/400 [02:06<00:00,  3.16it/s]\n"
     ]
    },
    {
     "name": "stdout",
     "output_type": "stream",
     "text": [
      "[GPU] Memory allocated: 298.33 MB | reserved: 828.38 MB\n",
      "Epoch 80: Loss = 0.0014, PSNR = 31.27, SSIM = 0.9025\n"
     ]
    },
    {
     "name": "stderr",
     "output_type": "stream",
     "text": [
      "Epoch 81: 100%|██████████| 400/400 [02:06<00:00,  3.16it/s]\n"
     ]
    },
    {
     "name": "stdout",
     "output_type": "stream",
     "text": [
      "[GPU] Memory allocated: 298.31 MB | reserved: 828.38 MB\n",
      "Epoch 81: Loss = 0.0014, PSNR = 31.23, SSIM = 0.9026\n"
     ]
    },
    {
     "name": "stderr",
     "output_type": "stream",
     "text": [
      "Epoch 82: 100%|██████████| 400/400 [02:06<00:00,  3.16it/s]\n"
     ]
    },
    {
     "name": "stdout",
     "output_type": "stream",
     "text": [
      "[GPU] Memory allocated: 298.33 MB | reserved: 828.38 MB\n",
      "Epoch 82: Loss = 0.0014, PSNR = 31.27, SSIM = 0.9023\n"
     ]
    },
    {
     "name": "stderr",
     "output_type": "stream",
     "text": [
      "Epoch 83: 100%|██████████| 400/400 [02:06<00:00,  3.16it/s]\n"
     ]
    },
    {
     "name": "stdout",
     "output_type": "stream",
     "text": [
      "[GPU] Memory allocated: 298.31 MB | reserved: 828.38 MB\n",
      "Epoch 83: Loss = 0.0014, PSNR = 31.27, SSIM = 0.9028\n"
     ]
    },
    {
     "name": "stderr",
     "output_type": "stream",
     "text": [
      "Epoch 84: 100%|██████████| 400/400 [02:06<00:00,  3.17it/s]\n"
     ]
    },
    {
     "name": "stdout",
     "output_type": "stream",
     "text": [
      "[GPU] Memory allocated: 298.33 MB | reserved: 828.38 MB\n",
      "Epoch 84: Loss = 0.0014, PSNR = 31.31, SSIM = 0.9029\n"
     ]
    },
    {
     "name": "stderr",
     "output_type": "stream",
     "text": [
      "Epoch 85: 100%|██████████| 400/400 [02:06<00:00,  3.16it/s]\n"
     ]
    },
    {
     "name": "stdout",
     "output_type": "stream",
     "text": [
      "[GPU] Memory allocated: 298.31 MB | reserved: 828.38 MB\n",
      "Epoch 85: Loss = 0.0014, PSNR = 31.27, SSIM = 0.9030\n"
     ]
    },
    {
     "name": "stderr",
     "output_type": "stream",
     "text": [
      "Epoch 86: 100%|██████████| 400/400 [02:06<00:00,  3.17it/s]\n"
     ]
    },
    {
     "name": "stdout",
     "output_type": "stream",
     "text": [
      "[GPU] Memory allocated: 298.33 MB | reserved: 828.38 MB\n",
      "Epoch 86: Loss = 0.0014, PSNR = 31.25, SSIM = 0.9026\n"
     ]
    },
    {
     "name": "stderr",
     "output_type": "stream",
     "text": [
      "Epoch 87: 100%|██████████| 400/400 [02:06<00:00,  3.17it/s]\n"
     ]
    },
    {
     "name": "stdout",
     "output_type": "stream",
     "text": [
      "[GPU] Memory allocated: 298.31 MB | reserved: 828.38 MB\n",
      "Epoch 87: Loss = 0.0014, PSNR = 31.33, SSIM = 0.9032\n"
     ]
    },
    {
     "name": "stderr",
     "output_type": "stream",
     "text": [
      "Epoch 88: 100%|██████████| 400/400 [02:06<00:00,  3.17it/s]\n"
     ]
    },
    {
     "name": "stdout",
     "output_type": "stream",
     "text": [
      "[GPU] Memory allocated: 298.33 MB | reserved: 828.38 MB\n",
      "Epoch 88: Loss = 0.0014, PSNR = 31.34, SSIM = 0.9031\n"
     ]
    },
    {
     "name": "stderr",
     "output_type": "stream",
     "text": [
      "Epoch 89: 100%|██████████| 400/400 [02:06<00:00,  3.17it/s]\n"
     ]
    },
    {
     "name": "stdout",
     "output_type": "stream",
     "text": [
      "[GPU] Memory allocated: 298.31 MB | reserved: 828.38 MB\n",
      "Epoch 89: Loss = 0.0014, PSNR = 31.36, SSIM = 0.9036\n"
     ]
    },
    {
     "name": "stderr",
     "output_type": "stream",
     "text": [
      "Epoch 90: 100%|██████████| 400/400 [02:06<00:00,  3.16it/s]\n"
     ]
    },
    {
     "name": "stdout",
     "output_type": "stream",
     "text": [
      "[GPU] Memory allocated: 298.33 MB | reserved: 828.38 MB\n",
      "Epoch 90: Loss = 0.0014, PSNR = 31.27, SSIM = 0.9020\n"
     ]
    },
    {
     "name": "stderr",
     "output_type": "stream",
     "text": [
      "Epoch 91: 100%|██████████| 400/400 [02:06<00:00,  3.16it/s]\n"
     ]
    },
    {
     "name": "stdout",
     "output_type": "stream",
     "text": [
      "[GPU] Memory allocated: 298.31 MB | reserved: 828.38 MB\n",
      "Epoch 91: Loss = 0.0014, PSNR = 31.38, SSIM = 0.9039\n"
     ]
    },
    {
     "name": "stderr",
     "output_type": "stream",
     "text": [
      "Epoch 92: 100%|██████████| 400/400 [02:06<00:00,  3.17it/s]\n"
     ]
    },
    {
     "name": "stdout",
     "output_type": "stream",
     "text": [
      "[GPU] Memory allocated: 298.33 MB | reserved: 828.38 MB\n",
      "Epoch 92: Loss = 0.0014, PSNR = 31.34, SSIM = 0.9034\n"
     ]
    },
    {
     "name": "stderr",
     "output_type": "stream",
     "text": [
      "Epoch 93: 100%|██████████| 400/400 [02:06<00:00,  3.17it/s]\n"
     ]
    },
    {
     "name": "stdout",
     "output_type": "stream",
     "text": [
      "[GPU] Memory allocated: 298.31 MB | reserved: 828.38 MB\n",
      "Epoch 93: Loss = 0.0014, PSNR = 31.39, SSIM = 0.9035\n"
     ]
    },
    {
     "name": "stderr",
     "output_type": "stream",
     "text": [
      "Epoch 94: 100%|██████████| 400/400 [02:06<00:00,  3.17it/s]\n"
     ]
    },
    {
     "name": "stdout",
     "output_type": "stream",
     "text": [
      "[GPU] Memory allocated: 298.33 MB | reserved: 828.38 MB\n",
      "Epoch 94: Loss = 0.0014, PSNR = 31.24, SSIM = 0.9034\n"
     ]
    },
    {
     "name": "stderr",
     "output_type": "stream",
     "text": [
      "Epoch 95: 100%|██████████| 400/400 [02:06<00:00,  3.16it/s]\n"
     ]
    },
    {
     "name": "stdout",
     "output_type": "stream",
     "text": [
      "[GPU] Memory allocated: 298.31 MB | reserved: 828.38 MB\n",
      "Epoch 95: Loss = 0.0014, PSNR = 30.76, SSIM = 0.9038\n"
     ]
    },
    {
     "name": "stderr",
     "output_type": "stream",
     "text": [
      "Epoch 96: 100%|██████████| 400/400 [02:06<00:00,  3.16it/s]\n"
     ]
    },
    {
     "name": "stdout",
     "output_type": "stream",
     "text": [
      "[GPU] Memory allocated: 298.33 MB | reserved: 828.38 MB\n",
      "Epoch 96: Loss = 0.0014, PSNR = 31.41, SSIM = 0.9039\n"
     ]
    },
    {
     "name": "stderr",
     "output_type": "stream",
     "text": [
      "Epoch 97: 100%|██████████| 400/400 [02:06<00:00,  3.16it/s]\n"
     ]
    },
    {
     "name": "stdout",
     "output_type": "stream",
     "text": [
      "[GPU] Memory allocated: 298.31 MB | reserved: 828.38 MB\n",
      "Epoch 97: Loss = 0.0014, PSNR = 31.39, SSIM = 0.9043\n"
     ]
    },
    {
     "name": "stderr",
     "output_type": "stream",
     "text": [
      "Epoch 98: 100%|██████████| 400/400 [02:06<00:00,  3.16it/s]\n"
     ]
    },
    {
     "name": "stdout",
     "output_type": "stream",
     "text": [
      "[GPU] Memory allocated: 298.33 MB | reserved: 828.38 MB\n",
      "Epoch 98: Loss = 0.0014, PSNR = 31.41, SSIM = 0.9043\n"
     ]
    },
    {
     "name": "stderr",
     "output_type": "stream",
     "text": [
      "Epoch 99: 100%|██████████| 400/400 [02:06<00:00,  3.16it/s]\n"
     ]
    },
    {
     "name": "stdout",
     "output_type": "stream",
     "text": [
      "[GPU] Memory allocated: 298.31 MB | reserved: 828.38 MB\n",
      "Epoch 99: Loss = 0.0014, PSNR = 31.05, SSIM = 0.9007\n"
     ]
    },
    {
     "name": "stderr",
     "output_type": "stream",
     "text": [
      "Epoch 100: 100%|██████████| 400/400 [02:06<00:00,  3.16it/s]\n"
     ]
    },
    {
     "name": "stdout",
     "output_type": "stream",
     "text": [
      "[GPU] Memory allocated: 298.33 MB | reserved: 828.38 MB\n",
      "Epoch 100: Loss = 0.0014, PSNR = 31.40, SSIM = 0.9046\n"
     ]
    },
    {
     "data": {
      "image/png": "[encoded data removed]",
      "text/plain": [
       "<Figure size 1800x500 with 3 Axes>"
      ]
     },
     "metadata": {},
     "output_type": "display_data"
    },
    {
     "data": {
      "text/plain": [
       "RestormerTiny(\n",
       "  (shallow_feat): Conv2d(3, 32, kernel_size=(3, 3), stride=(1, 1), padding=(1, 1))\n",
       "  (transformer_blocks): Sequential(\n",
       "    (0): TransformerBlock(\n",
       "      (norm1): LayerNorm2d()\n",
       "      (attn): MDTA(\n",
       "        (qkv): Conv2d(32, 96, kernel_size=(1, 1), stride=(1, 1))\n",
       "        (proj): Conv2d(32, 32, kernel_size=(1, 1), stride=(1, 1))\n",
       "      )\n",
       "      (norm2): LayerNorm2d()\n",
       "      (ffn): GatedFFN(\n",
       "        (fc1): Conv2d(32, 64, kernel_size=(1, 1), stride=(1, 1))\n",
       "        (dwconv): Conv2d(64, 64, kernel_size=(3, 3), stride=(1, 1), padding=(1, 1), groups=64)\n",
       "        (fc2): Conv2d(32, 32, kernel_size=(1, 1), stride=(1, 1))\n",
       "      )\n",
       "    )\n",
       "    (1): TransformerBlock(\n",
       "      (norm1): LayerNorm2d()\n",
       "      (attn): MDTA(\n",
       "        (qkv): Conv2d(32, 96, kernel_size=(1, 1), stride=(1, 1))\n",
       "        (proj): Conv2d(32, 32, kernel_size=(1, 1), stride=(1, 1))\n",
       "      )\n",
       "      (norm2): LayerNorm2d()\n",
       "      (ffn): GatedFFN(\n",
       "        (fc1): Conv2d(32, 64, kernel_size=(1, 1), stride=(1, 1))\n",
       "        (dwconv): Conv2d(64, 64, kernel_size=(3, 3), stride=(1, 1), padding=(1, 1), groups=64)\n",
       "        (fc2): Conv2d(32, 32, kernel_size=(1, 1), stride=(1, 1))\n",
       "      )\n",
       "    )\n",
       "    (2): TransformerBlock(\n",
       "      (norm1): LayerNorm2d()\n",
       "      (attn): MDTA(\n",
       "        (qkv): Conv2d(32, 96, kernel_size=(1, 1), stride=(1, 1))\n",
       "        (proj): Conv2d(32, 32, kernel_size=(1, 1), stride=(1, 1))\n",
       "      )\n",
       "      (norm2): LayerNorm2d()\n",
       "      (ffn): GatedFFN(\n",
       "        (fc1): Conv2d(32, 64, kernel_size=(1, 1), stride=(1, 1))\n",
       "        (dwconv): Conv2d(64, 64, kernel_size=(3, 3), stride=(1, 1), padding=(1, 1), groups=64)\n",
       "        (fc2): Conv2d(32, 32, kernel_size=(1, 1), stride=(1, 1))\n",
       "      )\n",
       "    )\n",
       "    (3): TransformerBlock(\n",
       "      (norm1): LayerNorm2d()\n",
       "      (attn): MDTA(\n",
       "        (qkv): Conv2d(32, 96, kernel_size=(1, 1), stride=(1, 1))\n",
       "        (proj): Conv2d(32, 32, kernel_size=(1, 1), stride=(1, 1))\n",
       "      )\n",
       "      (norm2): LayerNorm2d()\n",
       "      (ffn): GatedFFN(\n",
       "        (fc1): Conv2d(32, 64, kernel_size=(1, 1), stride=(1, 1))\n",
       "        (dwconv): Conv2d(64, 64, kernel_size=(3, 3), stride=(1, 1), padding=(1, 1), groups=64)\n",
       "        (fc2): Conv2d(32, 32, kernel_size=(1, 1), stride=(1, 1))\n",
       "      )\n",
       "    )\n",
       "  )\n",
       "  (upsample): Sequential(\n",
       "    (0): Conv2d(32, 128, kernel_size=(3, 3), stride=(1, 1), padding=(1, 1))\n",
       "    (1): PixelShuffle(upscale_factor=2)\n",
       "    (2): Conv2d(32, 3, kernel_size=(3, 3), stride=(1, 1), padding=(1, 1))\n",
       "  )\n",
       ")"
      ]
     },
     "execution_count": 50,
     "metadata": {},
     "output_type": "execute_result"
    }
   ],
   "source": [
    "train(model, train_loader, val_loader, epochs=100, lr=1e-4, log_dir=\"runs/RestormerTiny\")"
   ]
  },
  {
   "cell_type": "code",
   "execution_count": 51,
   "id": "16fd73de",
   "metadata": {},
   "outputs": [],
   "source": [
    "torch.save(model.state_dict(), \"restormer_tiny.pth\")"
   ]
  },
  {
   "cell_type": "markdown",
   "id": "b5ffff72",
   "metadata": {},
   "source": [
    "# Inference"
   ]
  },
  {
   "cell_type": "code",
   "execution_count": 5,
   "id": "ebcd65d7",
   "metadata": {},
   "outputs": [],
   "source": [
    "def window_partition(x, window_size):\n",
    "    B, C, H, W = x.shape\n",
    "    x = x.view(B, C, H // window_size, window_size, W // window_size, window_size)\n",
    "    windows = x.permute(0, 2, 4, 1, 3, 5).contiguous().view(-1, C, window_size, window_size)\n",
    "    return windows\n",
    "\n",
    "def window_reverse(windows, window_size, H, W):\n",
    "    B = int(windows.shape[0] / (H * W / window_size / window_size))\n",
    "    x = windows.view(B, H // window_size, W // window_size, -1, window_size, window_size)\n",
    "    x = x.permute(0, 3, 1, 4, 2, 5).contiguous().view(B, -1, H, W)\n",
    "    return x\n",
    "\n"
   ]
  },
  {
   "cell_type": "code",
   "execution_count": 6,
   "id": "5212a91a",
   "metadata": {},
   "outputs": [],
   "source": [
    "# ============ Transformer Block with Local Attention ============\n",
    "class LayerNorm2d(nn.Module):\n",
    "    def __init__(self, dim, eps=1e-6):\n",
    "        super().__init__()\n",
    "        self.eps = eps\n",
    "        self.gamma = nn.Parameter(torch.ones(1, dim, 1, 1))\n",
    "        self.beta = nn.Parameter(torch.zeros(1, dim, 1, 1))\n",
    "\n",
    "    def forward(self, x):\n",
    "        mu = x.mean(1, keepdim=True)\n",
    "        var = x.var(1, keepdim=True, unbiased=False)\n",
    "        x = (x - mu) / torch.sqrt(var + self.eps)\n",
    "        return self.gamma * x + self.beta\n",
    "\n",
    "class MDTA(nn.Module):\n",
    "    def __init__(self, dim, num_heads=4, window_size=8):\n",
    "        super().__init__()\n",
    "        self.heads = num_heads\n",
    "        self.scale = (dim // num_heads) ** -0.5\n",
    "        self.qkv = nn.Conv2d(dim, dim * 3, 1)\n",
    "        self.proj = nn.Conv2d(dim, dim, 1)\n",
    "        self.window_size = window_size\n",
    "\n",
    "    def forward(self, x):\n",
    "        B, C, H, W = x.shape\n",
    "        pad_h = (self.window_size - H % self.window_size) % self.window_size\n",
    "        pad_w = (self.window_size - W % self.window_size) % self.window_size\n",
    "        x = F.pad(x, (0, pad_w, 0, pad_h))\n",
    "        _, _, H_pad, W_pad = x.shape\n",
    "\n",
    "        windows = window_partition(x, self.window_size)  # [num_windows*B, C, ws, ws]\n",
    "        qkv = self.qkv(windows).reshape(-1, 3, self.heads, C // self.heads, self.window_size * self.window_size)\n",
    "        q, k, v = qkv[:, 0], qkv[:, 1], qkv[:, 2]\n",
    "\n",
    "        attn = (q.transpose(-2, -1) @ k) * self.scale\n",
    "        attn = attn.softmax(dim=-1)\n",
    "        out = (attn @ v.transpose(-2, -1)).transpose(-2, -1)\n",
    "        out = out.reshape(-1, C, self.window_size, self.window_size)\n",
    "\n",
    "        x = window_reverse(out, self.window_size, H_pad, W_pad)\n",
    "        x = x[:, :, :H, :W]  # remove padding\n",
    "        return self.proj(x)\n",
    "\n",
    "class GatedFFN(nn.Module):\n",
    "    def __init__(self, dim):\n",
    "        super().__init__()\n",
    "        self.fc1 = nn.Conv2d(dim, dim * 2, 1)\n",
    "        self.dwconv = nn.Conv2d(dim * 2, dim * 2, 3, 1, 1, groups=dim * 2)\n",
    "        self.fc2 = nn.Conv2d(dim, dim, 1)\n",
    "\n",
    "    def forward(self, x):\n",
    "        x1 = self.fc1(x)\n",
    "        x1 = self.dwconv(x1)\n",
    "        x1_1, x1_2 = x1.chunk(2, dim=1)\n",
    "        x = x1_1 * torch.sigmoid(x1_2)\n",
    "        x = self.fc2(x)\n",
    "        return x\n",
    "\n",
    "class TransformerBlock(nn.Module):\n",
    "    def __init__(self, dim):\n",
    "        super().__init__()\n",
    "        self.norm1 = LayerNorm2d(dim)\n",
    "        self.attn = MDTA(dim)\n",
    "        self.norm2 = LayerNorm2d(dim)\n",
    "        self.ffn = GatedFFN(dim)\n",
    "\n",
    "    def forward(self, x):\n",
    "        x = x + self.attn(self.norm1(x))\n",
    "        x = x + self.ffn(self.norm2(x))\n",
    "        return x\n",
    "\n"
   ]
  },
  {
   "cell_type": "code",
   "execution_count": 7,
   "id": "e6cc9012",
   "metadata": {},
   "outputs": [],
   "source": [
    "# ============ Restormer-Tiny ============\n",
    "class RestormerTiny(nn.Module):\n",
    "    def __init__(self, dim=32, num_blocks=4, scale=2):\n",
    "        super().__init__()\n",
    "        self.shallow_feat = nn.Conv2d(3, dim, kernel_size=3, padding=1)\n",
    "        self.transformer_blocks = nn.Sequential(*[TransformerBlock(dim) for _ in range(num_blocks)])\n",
    "        self.upsample = nn.Sequential(\n",
    "            nn.Conv2d(dim, dim * (scale ** 2), 3, 1, 1),\n",
    "            nn.PixelShuffle(scale),\n",
    "            nn.Conv2d(dim, 3, 3, 1, 1)\n",
    "        )\n",
    "\n",
    "    def forward(self, x):\n",
    "        x = self.shallow_feat(x)\n",
    "        x = self.transformer_blocks(x)\n",
    "        x = self.upsample(x)\n",
    "        return x\n",
    "\n"
   ]
  },
  {
   "cell_type": "code",
   "execution_count": 9,
   "id": "16c2cb40",
   "metadata": {},
   "outputs": [],
   "source": [
    "# ============ DIV2K Dataset ============\n",
    "class DIV2KDataset(Dataset):\n",
    "    def __init__(self, hr_dir, scale=2, transform=None):\n",
    "        super().__init__()\n",
    "        self.hr_images = [os.path.join(hr_dir, f) for f in os.listdir(hr_dir) if f.endswith(\".png\")]\n",
    "        self.scale = scale\n",
    "        self.transform = transform or transforms.ToTensor()\n",
    "\n",
    "    def __len__(self):\n",
    "        return len(self.hr_images)\n",
    "\n",
    "    def __getitem__(self, idx):\n",
    "        hr = Image.open(self.hr_images[idx]).convert(\"RGB\")\n",
    "        w, h = hr.size\n",
    "        hr = hr.crop((0, 0, w - w % self.scale, h - h % self.scale))\n",
    "        lr = hr.resize((w // self.scale, h // self.scale), Image.BICUBIC)\n",
    "        return self.transform(lr), self.transform(hr)\n",
    "\n"
   ]
  },
  {
   "cell_type": "code",
   "execution_count": 8,
   "id": "fe9710b7",
   "metadata": {},
   "outputs": [
    {
     "data": {
      "text/plain": [
       "RestormerTiny(\n",
       "  (shallow_feat): Conv2d(3, 32, kernel_size=(3, 3), stride=(1, 1), padding=(1, 1))\n",
       "  (transformer_blocks): Sequential(\n",
       "    (0): TransformerBlock(\n",
       "      (norm1): LayerNorm2d()\n",
       "      (attn): MDTA(\n",
       "        (qkv): Conv2d(32, 96, kernel_size=(1, 1), stride=(1, 1))\n",
       "        (proj): Conv2d(32, 32, kernel_size=(1, 1), stride=(1, 1))\n",
       "      )\n",
       "      (norm2): LayerNorm2d()\n",
       "      (ffn): GatedFFN(\n",
       "        (fc1): Conv2d(32, 64, kernel_size=(1, 1), stride=(1, 1))\n",
       "        (dwconv): Conv2d(64, 64, kernel_size=(3, 3), stride=(1, 1), padding=(1, 1), groups=64)\n",
       "        (fc2): Conv2d(32, 32, kernel_size=(1, 1), stride=(1, 1))\n",
       "      )\n",
       "    )\n",
       "    (1): TransformerBlock(\n",
       "      (norm1): LayerNorm2d()\n",
       "      (attn): MDTA(\n",
       "        (qkv): Conv2d(32, 96, kernel_size=(1, 1), stride=(1, 1))\n",
       "        (proj): Conv2d(32, 32, kernel_size=(1, 1), stride=(1, 1))\n",
       "      )\n",
       "      (norm2): LayerNorm2d()\n",
       "      (ffn): GatedFFN(\n",
       "        (fc1): Conv2d(32, 64, kernel_size=(1, 1), stride=(1, 1))\n",
       "        (dwconv): Conv2d(64, 64, kernel_size=(3, 3), stride=(1, 1), padding=(1, 1), groups=64)\n",
       "        (fc2): Conv2d(32, 32, kernel_size=(1, 1), stride=(1, 1))\n",
       "      )\n",
       "    )\n",
       "    (2): TransformerBlock(\n",
       "      (norm1): LayerNorm2d()\n",
       "      (attn): MDTA(\n",
       "        (qkv): Conv2d(32, 96, kernel_size=(1, 1), stride=(1, 1))\n",
       "        (proj): Conv2d(32, 32, kernel_size=(1, 1), stride=(1, 1))\n",
       "      )\n",
       "      (norm2): LayerNorm2d()\n",
       "      (ffn): GatedFFN(\n",
       "        (fc1): Conv2d(32, 64, kernel_size=(1, 1), stride=(1, 1))\n",
       "        (dwconv): Conv2d(64, 64, kernel_size=(3, 3), stride=(1, 1), padding=(1, 1), groups=64)\n",
       "        (fc2): Conv2d(32, 32, kernel_size=(1, 1), stride=(1, 1))\n",
       "      )\n",
       "    )\n",
       "    (3): TransformerBlock(\n",
       "      (norm1): LayerNorm2d()\n",
       "      (attn): MDTA(\n",
       "        (qkv): Conv2d(32, 96, kernel_size=(1, 1), stride=(1, 1))\n",
       "        (proj): Conv2d(32, 32, kernel_size=(1, 1), stride=(1, 1))\n",
       "      )\n",
       "      (norm2): LayerNorm2d()\n",
       "      (ffn): GatedFFN(\n",
       "        (fc1): Conv2d(32, 64, kernel_size=(1, 1), stride=(1, 1))\n",
       "        (dwconv): Conv2d(64, 64, kernel_size=(3, 3), stride=(1, 1), padding=(1, 1), groups=64)\n",
       "        (fc2): Conv2d(32, 32, kernel_size=(1, 1), stride=(1, 1))\n",
       "      )\n",
       "    )\n",
       "  )\n",
       "  (upsample): Sequential(\n",
       "    (0): Conv2d(32, 128, kernel_size=(3, 3), stride=(1, 1), padding=(1, 1))\n",
       "    (1): PixelShuffle(upscale_factor=2)\n",
       "    (2): Conv2d(32, 3, kernel_size=(3, 3), stride=(1, 1), padding=(1, 1))\n",
       "  )\n",
       ")"
      ]
     },
     "execution_count": 8,
     "metadata": {},
     "output_type": "execute_result"
    }
   ],
   "source": [
    "model = RestormerTiny(dim=32, num_blocks=4, scale=2)\n",
    "model.load_state_dict(torch.load(\"restormer_tiny.pth\"))\n",
    "model.eval()\n"
   ]
  },
  {
   "cell_type": "code",
   "execution_count": 10,
   "id": "f45cf20a",
   "metadata": {},
   "outputs": [],
   "source": [
    "transform = transforms.ToTensor()\n",
    "\n",
    "    # Load the full dataset (800 images assumed)\n",
    "full_dataset = DIV2KDataset(\"./comparison_images\", transform=transform, scale=2)\n",
    "\n",
    "    # Dataloaders\n",
    "val_loader = DataLoader(full_dataset, batch_size=1)"
   ]
  },
  {
   "cell_type": "code",
   "execution_count": 11,
   "id": "514e620b",
   "metadata": {},
   "outputs": [
    {
     "name": "stdout",
     "output_type": "stream",
     "text": [
      "Example 1\n",
      "PSNR: 38.55 dB\n",
      "SSIM: 0.9643\n",
      "==============================\n",
      "Example 2\n",
      "PSNR: 38.60 dB\n",
      "SSIM: 0.9742\n",
      "==============================\n",
      "Example 3\n",
      "PSNR: 35.91 dB\n",
      "SSIM: 0.8391\n",
      "==============================\n",
      "Example 4\n",
      "PSNR: 39.03 dB\n",
      "SSIM: 0.9513\n",
      "==============================\n"
     ]
    }
   ],
   "source": [
    "import cv2\n",
    "import numpy as np\n",
    "import torch\n",
    "from torchvision import transforms\n",
    "from skimage.metrics import structural_similarity as ssim\n",
    "from skimage.metrics import peak_signal_noise_ratio as psnr\n",
    "\n",
    "device = torch.device(\"cuda\" if torch.cuda.is_available() else \"cpu\")\n",
    "model.to(device)\n",
    "\n",
    "def tensor_to_cv2_img(tensor_img):\n",
    "    img = tensor_img.permute(1, 2, 0).numpy()  # [H, W, C]\n",
    "    img = np.clip(img * 255.0, 0, 255).astype(np.uint8)\n",
    "    img = cv2.cvtColor(img, cv2.COLOR_RGB2BGR)\n",
    "    return img\n",
    "\n",
    "def tensor_to_gray_numpy(tensor_img):\n",
    "    img = tensor_img.permute(1, 2, 0).numpy()\n",
    "    img = np.clip(img, 0, 1)\n",
    "    img_gray = cv2.cvtColor((img * 255).astype(np.uint8), cv2.COLOR_RGB2GRAY)\n",
    "    return img_gray\n",
    "\n",
    "# Loop through the first 4 examples\n",
    "for idx, (lr_img, hr_img) in enumerate(val_loader):\n",
    "    if idx >= 4:\n",
    "        break\n",
    "\n",
    "    lr_img = lr_img.squeeze(0)\n",
    "    hr_img = hr_img.squeeze(0)\n",
    "\n",
    "    with torch.no_grad():\n",
    "        sr_img = model(lr_img.unsqueeze(0).to(device))\n",
    "    sr_img = sr_img.squeeze(0).cpu()\n",
    "\n",
    "    # Convert to OpenCV images\n",
    "    lr_img_cv2 = tensor_to_cv2_img(lr_img)\n",
    "    hr_img_cv2 = tensor_to_cv2_img(hr_img)\n",
    "    sr_img_cv2 = tensor_to_cv2_img(sr_img)\n",
    "\n",
    "    # Save the images\n",
    "    cv2.imwrite(f\"Restormer-Tinylr_img_{idx+1}.png\", lr_img_cv2)\n",
    "    cv2.imwrite(f\"Restormer-Tinysr_img_{idx+1}.png\", sr_img_cv2)\n",
    "    cv2.imwrite(f\"Restormer-Tinyhr_img_{idx+1}.png\", hr_img_cv2)\n",
    "\n",
    "    # Calculate metrics\n",
    "    hr_gray = tensor_to_gray_numpy(hr_img)\n",
    "    sr_gray = tensor_to_gray_numpy(sr_img)\n",
    "    psnr_value = psnr(hr_img_cv2, sr_img_cv2, data_range=255)\n",
    "    ssim_value = ssim(hr_gray, sr_gray, data_range=255)\n",
    "\n",
    "    print(f\"Example {idx+1}\")\n",
    "    print(f\"PSNR: {psnr_value:.2f} dB\")\n",
    "    print(f\"SSIM: {ssim_value:.4f}\")\n",
    "    print(\"=\" * 30)\n",
    "\n",
    "    # Show the images\n",
    "    cv2.imshow(f'LR {idx+1}', lr_img_cv2)\n",
    "    cv2.imshow(f'SR {idx+1}', sr_img_cv2)\n",
    "    cv2.imshow(f'HR {idx+1}', hr_img_cv2)\n",
    "\n",
    "    cv2.waitKey(0)\n",
    "    cv2.destroyAllWindows()\n"
   ]
  }
 ],
 "metadata": {
  "kernelspec": {
   "display_name": "Python 3",
   "language": "python",
   "name": "python3"
  },
  "language_info": {
   "codemirror_mode": {
    "name": "ipython",
    "version": 3
   },
   "file_extension": ".py",
   "mimetype": "text/x-python",
   "name": "python",
   "nbconvert_exporter": "python",
   "pygments_lexer": "ipython3",
   "version": "3.10.0"
  }
 },
 "nbformat": 4,
 "nbformat_minor": 5
}
